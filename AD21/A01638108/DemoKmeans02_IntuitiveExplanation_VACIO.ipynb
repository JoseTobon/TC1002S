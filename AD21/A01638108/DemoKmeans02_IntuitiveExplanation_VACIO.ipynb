{
 "cells": [
  {
   "cell_type": "markdown",
   "metadata": {},
   "source": [
    "# K-means clustering: intuitive explanation\n",
    "\n",
    "The notebook provides an intuitive description and explanation of the k-means clustering technique. A synthetic dataset will be used to identify clusters manually.\n",
    "\n",
    "\n",
    "## Acknowledgments\n",
    "\n",
    "- Inquiries: mauricio.antelis@tec.mx\n"
   ]
  },
  {
   "cell_type": "markdown",
   "metadata": {},
   "source": [
    "# Importing libraries"
   ]
  },
  {
   "cell_type": "code",
   "execution_count": 42,
   "metadata": {},
   "outputs": [],
   "source": [
    "# Import the packages that we will be using\n",
    "import pandas as pd #for data handling\n",
    "import matplotlib.pyplot as plt #for ploting data"
   ]
  },
  {
   "cell_type": "markdown",
   "metadata": {},
   "source": [
    "# Create data"
   ]
  },
  {
   "cell_type": "code",
   "execution_count": 43,
   "metadata": {},
   "outputs": [],
   "source": [
    "# Create synthetic data\n",
    "d = {'x1':[2,4,2,6,6],\n",
    "     'x2':[2,3,4,6,5]}\n",
    "\n",
    "#construct dataframe\n",
    "dataset = pd.DataFrame(data=d)"
   ]
  },
  {
   "cell_type": "markdown",
   "metadata": {},
   "source": [
    "# Undertanding and preprocessing the data\n",
    "\n",
    "1. Get a general 'feel' of the data\n"
   ]
  },
  {
   "cell_type": "code",
   "execution_count": 44,
   "metadata": {},
   "outputs": [
    {
     "data": {
      "text/html": [
       "<div>\n",
       "<style scoped>\n",
       "    .dataframe tbody tr th:only-of-type {\n",
       "        vertical-align: middle;\n",
       "    }\n",
       "\n",
       "    .dataframe tbody tr th {\n",
       "        vertical-align: top;\n",
       "    }\n",
       "\n",
       "    .dataframe thead th {\n",
       "        text-align: right;\n",
       "    }\n",
       "</style>\n",
       "<table border=\"1\" class=\"dataframe\">\n",
       "  <thead>\n",
       "    <tr style=\"text-align: right;\">\n",
       "      <th></th>\n",
       "      <th>x1</th>\n",
       "      <th>x2</th>\n",
       "    </tr>\n",
       "  </thead>\n",
       "  <tbody>\n",
       "    <tr>\n",
       "      <th>0</th>\n",
       "      <td>2</td>\n",
       "      <td>2</td>\n",
       "    </tr>\n",
       "    <tr>\n",
       "      <th>1</th>\n",
       "      <td>4</td>\n",
       "      <td>3</td>\n",
       "    </tr>\n",
       "    <tr>\n",
       "      <th>2</th>\n",
       "      <td>2</td>\n",
       "      <td>4</td>\n",
       "    </tr>\n",
       "    <tr>\n",
       "      <th>3</th>\n",
       "      <td>6</td>\n",
       "      <td>6</td>\n",
       "    </tr>\n",
       "    <tr>\n",
       "      <th>4</th>\n",
       "      <td>6</td>\n",
       "      <td>5</td>\n",
       "    </tr>\n",
       "  </tbody>\n",
       "</table>\n",
       "</div>"
      ],
      "text/plain": [
       "   x1  x2\n",
       "0   2   2\n",
       "1   4   3\n",
       "2   2   4\n",
       "3   6   6\n",
       "4   6   5"
      ]
     },
     "execution_count": 44,
     "metadata": {},
     "output_type": "execute_result"
    }
   ],
   "source": [
    "#we have 5 rows and 2 variables\n",
    "dataset"
   ]
  },
  {
   "cell_type": "markdown",
   "metadata": {},
   "source": [
    "2. Scatter plot of the data"
   ]
  },
  {
   "cell_type": "code",
   "execution_count": 45,
   "metadata": {},
   "outputs": [
    {
     "data": {
      "image/png": "[encoded data removed]",
      "text/plain": [
       "<Figure size 432x288 with 1 Axes>"
      ]
     },
     "metadata": {
      "needs_background": "light"
     },
     "output_type": "display_data"
    }
   ],
   "source": [
    "plt.scatter(dataset.x1,dataset.x2, s=100) #s=size of scatters\n",
    "plt.title('Scater plot of my dataset',fontsize=18)\n",
    "plt.xlabel('x1',fontsize=18)\n",
    "plt.ylabel('x2',fontsize=18)\n",
    "\n",
    "plt.xlim(1,7)\n",
    "plt.ylim(1,7)\n",
    "\n",
    "plt.show()"
   ]
  },
  {
   "cell_type": "markdown",
   "metadata": {},
   "source": [
    "Note that for this dataset we do not know in advance the cluster/group/class to which each point belongs to, and that is what we want to do: to identify the existing cluster/group/class, i.e., to assing each point to a cluster/group/class"
   ]
  },
  {
   "cell_type": "markdown",
   "metadata": {},
   "source": [
    "3. Preprocessing the data\n",
    "\n",
    "No preprocessing is required"
   ]
  },
  {
   "cell_type": "markdown",
   "metadata": {},
   "source": [
    "# Kmeans clustering\n",
    "\n",
    "Intuitive explanation"
   ]
  },
  {
   "cell_type": "markdown",
   "metadata": {},
   "source": [
    "### Initialize/Preliminaries"
   ]
  },
  {
   "cell_type": "code",
   "execution_count": 46,
   "metadata": {},
   "outputs": [
    {
     "name": "stdout",
     "output_type": "stream",
     "text": [
      "5\n"
     ]
    }
   ],
   "source": [
    "# Compute the number of points in the dataset\n",
    "index = dataset.index\n",
    "npoints = len(index)\n",
    "\n",
    "print(npoints)"
   ]
  },
  {
   "cell_type": "markdown",
   "metadata": {},
   "source": [
    "## 1: Specify the number of clusters\n",
    "\n",
    "Define the number $K$ of clusters"
   ]
  },
  {
   "cell_type": "code",
   "execution_count": 47,
   "metadata": {},
   "outputs": [],
   "source": [
    "# Let's assume our data has two clusters (note that the rest of the code is for K=2)\n",
    "k = 2"
   ]
  },
  {
   "cell_type": "markdown",
   "metadata": {},
   "source": [
    "## 2: Initialize the centroids of the clusters\n",
    "\n",
    "Randomly initialize the centroids of the clusters $C_1, C_2, \\cdots, C_K$"
   ]
  },
  {
   "cell_type": "code",
   "execution_count": 48,
   "metadata": {},
   "outputs": [
    {
     "name": "stdout",
     "output_type": "stream",
     "text": [
      "[1.5 3. ]\n",
      "[3. 3.]\n"
     ]
    }
   ],
   "source": [
    "# Let's initialize the centroids for the K=2 clusters (this has to be done randomly)\n",
    "import numpy as np\n",
    "\n",
    "c1 = np.array([1.5,3.0]) #random first centroid\n",
    "c2 = np.array([3.0,3.0]) #random second centroid\n",
    "\n",
    "print(c1)\n",
    "print(c2)\n",
    "\n"
   ]
  },
  {
   "cell_type": "code",
   "execution_count": 85,
   "metadata": {},
   "outputs": [
    {
     "data": {
      "image/png": "[encoded data removed]",
      "text/plain": [
       "<Figure size 432x288 with 1 Axes>"
      ]
     },
     "metadata": {
      "needs_background": "light"
     },
     "output_type": "display_data"
    }
   ],
   "source": [
    "# Plot the points and the centroids\n",
    "plt.scatter(dataset.x1,dataset.x2, s=100) #s=size of scatters\n",
    "\n",
    "plt.scatter(c1[0],c1[1],color=\"r\",marker='o',s=500,alpha=0.9)\n",
    "plt.scatter(c2[0],c2[1],color=\"b\",marker='s',s=500,alpha=0.9)\n",
    "plt.title('Scater plot of my dataset and centroids',fontsize=18)\n",
    "plt.xlabel('x1',fontsize=18)\n",
    "plt.ylabel('x2',fontsize=18)\n",
    "\n",
    "plt.xlim(1,7)\n",
    "plt.ylim(1,7)\n",
    "\n",
    "plt.show()"
   ]
  },
  {
   "cell_type": "markdown",
   "metadata": {},
   "source": [
    "## 3:  Repeat the following\n"
   ]
  },
  {
   "cell_type": "markdown",
   "metadata": {},
   "source": [
    "Define the current centroids"
   ]
  },
  {
   "cell_type": "code",
   "execution_count": 86,
   "metadata": {},
   "outputs": [],
   "source": [
    "c1 = c1new\n",
    "c2 = c2new"
   ]
  },
  {
   "cell_type": "markdown",
   "metadata": {},
   "source": [
    "## 4: Assign each point  to its closest centroid\n",
    "\n",
    "Compute the distance of each data point to each centroid\n",
    "\n",
    "Assign each point to the centroid with the minimum Euclidean distance\n",
    "\n",
    "Euclidean distance:\n",
    "- Consider two points $x=(x_1,x_2)$ and  $y=(y_1,y_2)$.\n",
    "- The Euclidean distance between these two points is \n",
    "$ d = \\sqrt {\\left( {x_1 - x_2 } \\right)^2 + \\left( {y_1 - y_2 } \\right)^2 } $\n"
   ]
  },
  {
   "cell_type": "code",
   "execution_count": 87,
   "metadata": {},
   "outputs": [
    {
     "name": "stdout",
     "output_type": "stream",
     "text": [
      "[[1.20185043 5.31507291]\n",
      " [1.33333333 3.20156212]\n",
      " [1.20185043 4.27200187]\n",
      " [4.48454135 0.5       ]\n",
      " [3.88730126 0.5       ]]\n"
     ]
    }
   ],
   "source": [
    "# Compute the distance of each data point to each centroid\n",
    "Dis2Centroids = np.zeros((npoints,k))\n",
    "\n",
    "#let's compute the distance manually\n",
    "ipoint, x1, x2 = 0,2,2 #see the dataset\n",
    "Dis2Centroids[ipoint,0] = np.sqrt((x1-c1[0])**2 + (x2-c1[1])**2)\n",
    "Dis2Centroids[ipoint,1] = np.sqrt((x1-c2[0])**2 + (x2-c2[1])**2)\n",
    "\n",
    "ipoint, x1, x2 = 1,4,3 #see the dataset\n",
    "Dis2Centroids[ipoint,0] = np.sqrt((x1-c1[0])**2 + (x2-c1[1])**2)\n",
    "Dis2Centroids[ipoint,1] = np.sqrt((x1-c2[0])**2 + (x2-c2[1])**2)\n",
    "\n",
    "ipoint, x1, x2 = 2,2,4 #see the dataset\n",
    "Dis2Centroids[ipoint,0] = np.sqrt((x1-c1[0])**2 + (x2-c1[1])**2)\n",
    "Dis2Centroids[ipoint,1] = np.sqrt((x1-c2[0])**2 + (x2-c2[1])**2)\n",
    "\n",
    "ipoint, x1, x2 = 3,6,6 #see the dataset\n",
    "Dis2Centroids[ipoint,0] = np.sqrt((x1-c1[0])**2 + (x2-c1[1])**2)\n",
    "Dis2Centroids[ipoint,1] = np.sqrt((x1-c2[0])**2 + (x2-c2[1])**2)\n",
    "\n",
    "ipoint, x1, x2 = 4,6,5 #see the dataset\n",
    "Dis2Centroids[ipoint,0] = np.sqrt((x1-c1[0])**2 + (x2-c1[1])**2)\n",
    "Dis2Centroids[ipoint,1] = np.sqrt((x1-c2[0])**2 + (x2-c2[1])**2)\n",
    "\n",
    "print(Dis2Centroids)\n",
    "\n"
   ]
  },
  {
   "cell_type": "code",
   "execution_count": 88,
   "metadata": {},
   "outputs": [],
   "source": [
    "# Assign each point to the centroid with the minimum Euclidean distance\n",
    "#cluster = np.array([1,2,1,2,2])\n",
    "#cluster = np.array([1,1,1,2,2])\n",
    "cluster = np.array([1,1,1,2,2])\n"
   ]
  },
  {
   "cell_type": "code",
   "execution_count": 89,
   "metadata": {},
   "outputs": [
    {
     "name": "stdout",
     "output_type": "stream",
     "text": [
      "   x1  x2\n",
      "0   2   2\n",
      "1   4   3\n",
      "2   2   4\n"
     ]
    },
    {
     "data": {
      "image/png": "[encoded data removed]",
      "text/plain": [
       "<Figure size 432x288 with 1 Axes>"
      ]
     },
     "metadata": {
      "needs_background": "light"
     },
     "output_type": "display_data"
    }
   ],
   "source": [
    "# Scatter plot of the data asigning each point to the cluster it belongs to ¡¡\n",
    "df1 = dataset[cluster==1]\n",
    "df2 = dataset[cluster==2]\n",
    "\n",
    "print(df1)\n",
    "\n",
    "plt.scatter(df1.x1,df1.x2,color=\"r\",marker='o',s=100,alpha=0.9)\n",
    "plt.scatter(df2.x1,df2.x2,color=\"b\",marker='s',s=100,alpha=0.9)\n",
    "\n",
    "plt.scatter(c1[0],c1[1],color=\"r\",marker='o',s=500,alpha=0.2)\n",
    "plt.scatter(c2[0],c2[1],color=\"b\",marker='s',s=500,alpha=0.2)\n",
    "\n",
    "plt.title('cluster',fontsize=18)\n",
    "plt.xlabel('x1',fontsize=18)\n",
    "plt.ylabel('x2',fontsize=18)\n",
    "\n",
    "plt.xlim(1,7)\n",
    "plt.ylim(1,7)\n",
    "\n",
    "plt.show()"
   ]
  },
  {
   "cell_type": "markdown",
   "metadata": {},
   "source": [
    "## 5: Compute the new centroid (mean) of each cluster\n",
    "\n",
    "Compute the new centroid of each cluster"
   ]
  },
  {
   "cell_type": "code",
   "execution_count": 90,
   "metadata": {},
   "outputs": [
    {
     "name": "stdout",
     "output_type": "stream",
     "text": [
      "   x1  x2\n",
      "0   2   2\n",
      "1   4   3\n",
      "2   2   4\n",
      "[2.66666667 3.        ]\n"
     ]
    }
   ],
   "source": [
    "# Let's compute the 1st Centroid \n",
    "print(df1)\n",
    "c1new = np.array([0.,0.])\n",
    "\n",
    "c1new[0] = df1.x1.mean()\n",
    "c1new[1] = df1.x2.mean()\n",
    "\n",
    "print(c1new)"
   ]
  },
  {
   "cell_type": "code",
   "execution_count": 91,
   "metadata": {},
   "outputs": [
    {
     "name": "stdout",
     "output_type": "stream",
     "text": [
      "   x1  x2\n",
      "3   6   6\n",
      "4   6   5\n",
      "[6.  5.5]\n"
     ]
    }
   ],
   "source": [
    "# Let's compute the 2nd Centroid \n",
    "print(df2)\n",
    "c2new = np.array([0.,0.])\n",
    "\n",
    "c2new[0] = df2.x1.mean()\n",
    "c2new[1] = df2.x2.mean()\n",
    "\n",
    "print(c2new)\n"
   ]
  },
  {
   "cell_type": "code",
   "execution_count": 92,
   "metadata": {},
   "outputs": [
    {
     "data": {
      "image/png": "[encoded data removed]",
      "text/plain": [
       "<Figure size 432x288 with 1 Axes>"
      ]
     },
     "metadata": {
      "needs_background": "light"
     },
     "output_type": "display_data"
    }
   ],
   "source": [
    "# Scatter plot of the data asigning each point to the cluster it belongs to ¡¡\n",
    "plt.scatter(df1.x1,df1.x2,color=\"r\",marker='o',s=100,alpha=0.9)\n",
    "plt.scatter(df2.x1,df2.x2,color=\"b\",marker='s',s=100,alpha=0.9)\n",
    "\n",
    "plt.scatter(c1[0],c1[1],color=\"r\",marker='o',s=500,alpha=0.2)\n",
    "plt.scatter(c2[0],c2[1],color=\"b\",marker='s',s=500,alpha=0.2)\n",
    "\n",
    "plt.scatter(c1new[0],c1new[1],color=\"r\",marker='o',s=500,alpha=0.9)\n",
    "plt.scatter(c2new[0],c2new[1],color=\"b\",marker='s',s=500,alpha=0.9)\n",
    "\n",
    "plt.title('cluster',fontsize=18)\n",
    "plt.xlabel('x1',fontsize=18)\n",
    "plt.ylabel('x2',fontsize=18)\n",
    "\n",
    "plt.xlim(1,7)\n",
    "plt.ylim(1,7)\n",
    "\n",
    "plt.show()\n",
    "\n"
   ]
  },
  {
   "cell_type": "markdown",
   "metadata": {},
   "source": [
    "## 6: Until the centroids do not change \n",
    "\n",
    "If the centroids do not change, then, none of the data points change of the assigned cluster\n"
   ]
  },
  {
   "cell_type": "code",
   "execution_count": 93,
   "metadata": {},
   "outputs": [
    {
     "name": "stdout",
     "output_type": "stream",
     "text": [
      "[2.66666667 3.        ]\n",
      "[2.66666667 3.        ]\n"
     ]
    }
   ],
   "source": [
    "print(c1)\n",
    "print(c1new)\n"
   ]
  },
  {
   "cell_type": "code",
   "execution_count": 94,
   "metadata": {},
   "outputs": [
    {
     "name": "stdout",
     "output_type": "stream",
     "text": [
      "[6.  5.5]\n",
      "[6.  5.5]\n"
     ]
    }
   ],
   "source": [
    "print(c2)\n",
    "print(c2new)\n"
   ]
  },
  {
   "cell_type": "markdown",
   "metadata": {},
   "source": [
    "#### If the centroids do change... go to 3 (recall to use the new centroids)\n",
    "\n",
    "#### If the centroids do not change... done ¡¡"
   ]
  }
 ],
 "metadata": {
  "kernelspec": {
   "display_name": "Python 3",
   "language": "python",
   "name": "python3"
  },
  "language_info": {
   "codemirror_mode": {
    "name": "ipython",
    "version": 3
   },
   "file_extension": ".py",
   "mimetype": "text/x-python",
   "name": "python",
   "nbconvert_exporter": "python",
   "pygments_lexer": "ipython3",
   "version": "3.8.8"
  }
 },
 "nbformat": 4,
 "nbformat_minor": 2
}
