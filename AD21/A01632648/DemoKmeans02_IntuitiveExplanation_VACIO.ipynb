{
 "cells": [
  {
   "cell_type": "markdown",
   "source": [
    "# K-means clustering: intuitive explanation\n",
    "\n",
    "The notebook provides an intuitive description and explanation of the k-means clustering technique. A synthetic dataset will be used to identify clusters manually.\n",
    "\n",
    "\n",
    "## Acknowledgments\n",
    "\n",
    "- Inquiries: mauricio.antelis@tec.mx\n"
   ],
   "metadata": {}
  },
  {
   "cell_type": "markdown",
   "source": [
    "# Importing libraries"
   ],
   "metadata": {}
  },
  {
   "cell_type": "code",
   "execution_count": 328,
   "source": [
    "# Import the packages that we will be using\r\n",
    "import pandas as pd\r\n",
    "import matplotlib.pyplot as plt"
   ],
   "outputs": [],
   "metadata": {}
  },
  {
   "cell_type": "markdown",
   "source": [
    "# Importing data"
   ],
   "metadata": {}
  },
  {
   "cell_type": "code",
   "execution_count": 329,
   "source": [
    "# Create synthetic data\r\n",
    "d = {'x1': [2, 4, 2, 6, 6], \r\n",
    "     'x2': [2, 3, 4, 6, 5]}\r\n",
    "\r\n",
    "# Tenemos 5 observaciones\r\n",
    "# Tenemos 2 variables\r\n",
    "\r\n",
    "# Construct dataframe\r\n",
    "dataset = pd.DataFrame(data = d)"
   ],
   "outputs": [],
   "metadata": {}
  },
  {
   "cell_type": "markdown",
   "source": [
    "# Undertanding and preprocessing the data\n",
    "\n",
    "1. Get a general 'feel' of the data\n"
   ],
   "metadata": {}
  },
  {
   "cell_type": "code",
   "execution_count": 330,
   "source": [
    "dataset"
   ],
   "outputs": [
    {
     "output_type": "execute_result",
     "data": {
      "text/html": [
       "<div>\n",
       "<style scoped>\n",
       "    .dataframe tbody tr th:only-of-type {\n",
       "        vertical-align: middle;\n",
       "    }\n",
       "\n",
       "    .dataframe tbody tr th {\n",
       "        vertical-align: top;\n",
       "    }\n",
       "\n",
       "    .dataframe thead th {\n",
       "        text-align: right;\n",
       "    }\n",
       "</style>\n",
       "<table border=\"1\" class=\"dataframe\">\n",
       "  <thead>\n",
       "    <tr style=\"text-align: right;\">\n",
       "      <th></th>\n",
       "      <th>x1</th>\n",
       "      <th>x2</th>\n",
       "    </tr>\n",
       "  </thead>\n",
       "  <tbody>\n",
       "    <tr>\n",
       "      <th>0</th>\n",
       "      <td>2</td>\n",
       "      <td>2</td>\n",
       "    </tr>\n",
       "    <tr>\n",
       "      <th>1</th>\n",
       "      <td>4</td>\n",
       "      <td>3</td>\n",
       "    </tr>\n",
       "    <tr>\n",
       "      <th>2</th>\n",
       "      <td>2</td>\n",
       "      <td>4</td>\n",
       "    </tr>\n",
       "    <tr>\n",
       "      <th>3</th>\n",
       "      <td>6</td>\n",
       "      <td>6</td>\n",
       "    </tr>\n",
       "    <tr>\n",
       "      <th>4</th>\n",
       "      <td>6</td>\n",
       "      <td>5</td>\n",
       "    </tr>\n",
       "  </tbody>\n",
       "</table>\n",
       "</div>"
      ],
      "text/plain": [
       "   x1  x2\n",
       "0   2   2\n",
       "1   4   3\n",
       "2   2   4\n",
       "3   6   6\n",
       "4   6   5"
      ]
     },
     "metadata": {},
     "execution_count": 330
    }
   ],
   "metadata": {}
  },
  {
   "cell_type": "code",
   "execution_count": 331,
   "source": [
    "dataset.shape"
   ],
   "outputs": [
    {
     "output_type": "execute_result",
     "data": {
      "text/plain": [
       "(5, 2)"
      ]
     },
     "metadata": {},
     "execution_count": 331
    }
   ],
   "metadata": {}
  },
  {
   "cell_type": "code",
   "execution_count": 332,
   "source": [
    "dataset.columns\r\n",
    "# tenemos 5 observaciones\r\n",
    "# tenemos 2 variables"
   ],
   "outputs": [
    {
     "output_type": "execute_result",
     "data": {
      "text/plain": [
       "Index(['x1', 'x2'], dtype='object')"
      ]
     },
     "metadata": {},
     "execution_count": 332
    }
   ],
   "metadata": {}
  },
  {
   "cell_type": "markdown",
   "source": [
    "2. Scatter plot of the data"
   ],
   "metadata": {}
  },
  {
   "cell_type": "code",
   "execution_count": 333,
   "source": [
    "plt.scatter(dataset.x1, dataset.x2, s = 100)\r\n",
    "plt.title('Scatter plot of my dataset', fontsize = 18)\r\n",
    "plt.xlabel('x1', fontsize = 18)\r\n",
    "plt.ylabel('x2', fontsize = 18)\r\n",
    "\r\n",
    "plt.xlim(1,7)\r\n",
    "plt.ylim(1,7)\r\n",
    "\r\n",
    "plt.show()"
   ],
   "outputs": [
    {
     "output_type": "display_data",
     "data": {
      "image/png": "[encoded data removed]",
      "text/plain": [
       "<Figure size 432x288 with 1 Axes>"
      ]
     },
     "metadata": {
      "needs_background": "light"
     }
    }
   ],
   "metadata": {}
  },
  {
   "cell_type": "markdown",
   "source": [
    "Note that for this dataset we do not know in advance the cluster/group/class to which each point belongs to, and that is what we want to do: to identify the existing cluster/group/class, i.e., to assing each point to a cluster/group/class"
   ],
   "metadata": {}
  },
  {
   "cell_type": "markdown",
   "source": [
    "3. Preprocessing the data\n",
    "\n",
    "No preprocessing is required"
   ],
   "metadata": {}
  },
  {
   "cell_type": "markdown",
   "source": [
    "# Kmeans clustering\n",
    "\n",
    "Intuitive explanation"
   ],
   "metadata": {}
  },
  {
   "cell_type": "markdown",
   "source": [
    "### Initialize/Preliminaries"
   ],
   "metadata": {}
  },
  {
   "cell_type": "code",
   "execution_count": 334,
   "source": [
    "# Compute the number of points in the dataset\r\n",
    "\r\n",
    "index = dataset.index\r\n",
    "Npoints = len(index)\r\n",
    "\r\n",
    "print(Npoints)"
   ],
   "outputs": [
    {
     "output_type": "stream",
     "name": "stdout",
     "text": [
      "5\n"
     ]
    }
   ],
   "metadata": {}
  },
  {
   "cell_type": "markdown",
   "source": [
    "## 1: Specify the number of clusters\n",
    "\n",
    "Define the number $K$ of clusters"
   ],
   "metadata": {}
  },
  {
   "cell_type": "code",
   "execution_count": 335,
   "source": [
    "# Let's assume our data has two clusters (note that the rest of the code is for K=2)\r\n",
    "\r\n",
    "K = 2"
   ],
   "outputs": [],
   "metadata": {}
  },
  {
   "cell_type": "markdown",
   "source": [
    "## 2: Initialize the centroids of the clusters\n",
    "\n",
    "Randomly initialize the centroids of the clusters $C_1, C_2, \\cdots, C_K$"
   ],
   "metadata": {}
  },
  {
   "cell_type": "code",
   "execution_count": 336,
   "source": [
    "# Let's initialize the centroids for the K=2 clusters (this has to be done randomly)\r\n",
    "\r\n",
    "import numpy as np\r\n",
    "\r\n",
    "C1 = np.array([1.5, 3.0]) # This is 1st centroid\r\n",
    "C2 = np.array([3.0, 3.0]) # This is 2nd centroid\r\n",
    "\r\n",
    "print(C1)\r\n",
    "print(C2)"
   ],
   "outputs": [
    {
     "output_type": "stream",
     "name": "stdout",
     "text": [
      "[1.5 3. ]\n",
      "[3. 3.]\n"
     ]
    }
   ],
   "metadata": {}
  },
  {
   "cell_type": "code",
   "execution_count": 337,
   "source": [
    "# Plot the points and the centroids\r\n",
    "\r\n",
    "plt.scatter(dataset.x1, dataset.x2, s = 100)\r\n",
    "\r\n",
    "plt.scatter(C1[0], C1[1], color='r', marker = 'o', s = 500, alpha = 0.9)\r\n",
    "plt.scatter(C2[0], C2[1], color='b', marker = 's', s = 500, alpha = 0.9)\r\n",
    "\r\n",
    "plt.title('Scatter plot of my dataset and centroids', fontsize = 18)\r\n",
    "plt.xlabel('x1', fontsize = 18)\r\n",
    "plt.ylabel('x2', fontsize = 18)\r\n",
    "\r\n",
    "plt.xlim(1,7)\r\n",
    "plt.ylim(1,7)\r\n",
    "\r\n",
    "plt.show()"
   ],
   "outputs": [
    {
     "output_type": "display_data",
     "data": {
      "image/png": "[encoded data removed]",
      "text/plain": [
       "<Figure size 432x288 with 1 Axes>"
      ]
     },
     "metadata": {
      "needs_background": "light"
     }
    }
   ],
   "metadata": {}
  },
  {
   "cell_type": "markdown",
   "source": [
    "## 3:  Repeat the following\n"
   ],
   "metadata": {}
  },
  {
   "cell_type": "markdown",
   "source": [
    "Define the current centroids"
   ],
   "metadata": {}
  },
  {
   "cell_type": "code",
   "execution_count": 338,
   "source": [
    "C1 = C1new\r\n",
    "C2 = C2new"
   ],
   "outputs": [],
   "metadata": {}
  },
  {
   "cell_type": "markdown",
   "source": [
    "## 4: Assign each point  to its closest centroid\r\n",
    "\r\n",
    "Compute the distance of each data point to each centroid\r\n",
    "\r\n",
    "Assign each point to the centroid with the minimum Euclidean distance\r\n",
    "\r\n",
    "Euclidean distance:\r\n",
    "- Consider two points $x=(x_1,x_2)$ and  $y=(y_1,y_2)$.\r\n",
    "- The Euclidean distance between these two points is \r\n",
    "$ d = \\sqrt {\\left( {x_1 - x_2 } \\right)^2 + \\left( {y_1 - y_2 } \\right)^2 } $\r\n"
   ],
   "metadata": {}
  },
  {
   "cell_type": "code",
   "execution_count": 339,
   "source": [
    "dataset"
   ],
   "outputs": [
    {
     "output_type": "execute_result",
     "data": {
      "text/html": [
       "<div>\n",
       "<style scoped>\n",
       "    .dataframe tbody tr th:only-of-type {\n",
       "        vertical-align: middle;\n",
       "    }\n",
       "\n",
       "    .dataframe tbody tr th {\n",
       "        vertical-align: top;\n",
       "    }\n",
       "\n",
       "    .dataframe thead th {\n",
       "        text-align: right;\n",
       "    }\n",
       "</style>\n",
       "<table border=\"1\" class=\"dataframe\">\n",
       "  <thead>\n",
       "    <tr style=\"text-align: right;\">\n",
       "      <th></th>\n",
       "      <th>x1</th>\n",
       "      <th>x2</th>\n",
       "    </tr>\n",
       "  </thead>\n",
       "  <tbody>\n",
       "    <tr>\n",
       "      <th>0</th>\n",
       "      <td>2</td>\n",
       "      <td>2</td>\n",
       "    </tr>\n",
       "    <tr>\n",
       "      <th>1</th>\n",
       "      <td>4</td>\n",
       "      <td>3</td>\n",
       "    </tr>\n",
       "    <tr>\n",
       "      <th>2</th>\n",
       "      <td>2</td>\n",
       "      <td>4</td>\n",
       "    </tr>\n",
       "    <tr>\n",
       "      <th>3</th>\n",
       "      <td>6</td>\n",
       "      <td>6</td>\n",
       "    </tr>\n",
       "    <tr>\n",
       "      <th>4</th>\n",
       "      <td>6</td>\n",
       "      <td>5</td>\n",
       "    </tr>\n",
       "  </tbody>\n",
       "</table>\n",
       "</div>"
      ],
      "text/plain": [
       "   x1  x2\n",
       "0   2   2\n",
       "1   4   3\n",
       "2   2   4\n",
       "3   6   6\n",
       "4   6   5"
      ]
     },
     "metadata": {},
     "execution_count": 339
    }
   ],
   "metadata": {}
  },
  {
   "cell_type": "code",
   "execution_count": 340,
   "source": [
    "# Compute the distance of each data point to each centroid\r\n",
    "\r\n",
    "dis2Centroids = np.zeros((Npoints, K))\r\n",
    "\r\n",
    "# Let's compute the distance manually\r\n",
    "ipoint, x1, x2 = 0, 2, 2 # See the dataset\r\n",
    "\r\n",
    "dis2Centroids[ipoint, 0] = np.sqrt((x1-C1[0])**2 + (x2-C1[1])**2)\r\n",
    "dis2Centroids[ipoint, 1] = np.sqrt((x1-C2[0])**2 + (x2-C2[1])**2)\r\n",
    "\r\n",
    "ipoint, x1, x2 = 1, 4, 3 # See the dataset\r\n",
    "\r\n",
    "dis2Centroids[ipoint, 0] = np.sqrt((x1-C1[0])**2 + (x2-C1[1])**2)\r\n",
    "dis2Centroids[ipoint, 1] = np.sqrt((x1-C2[0])**2 + (x2-C2[1])**2)\r\n",
    "\r\n",
    "ipoint, x1, x2 = 2, 2, 4 # See the dataset\r\n",
    "\r\n",
    "dis2Centroids[ipoint, 0] = np.sqrt((x1-C1[0])**2 + (x2-C1[1])**2)\r\n",
    "dis2Centroids[ipoint, 1] = np.sqrt((x1-C2[0])**2 + (x2-C2[1])**2)\r\n",
    "\r\n",
    "ipoint, x1, x2 = 3, 6, 6 # See the dataset\r\n",
    "\r\n",
    "dis2Centroids[ipoint, 0] = np.sqrt((x1-C1[0])**2 + (x2-C1[1])**2)\r\n",
    "dis2Centroids[ipoint, 1] = np.sqrt((x1-C2[0])**2 + (x2-C2[1])**2)\r\n",
    "\r\n",
    "ipoint, x1, x2 = 4, 6, 5 # See the dataset\r\n",
    "\r\n",
    "dis2Centroids[ipoint, 0] = np.sqrt((x1-C1[0])**2 + (x2-C1[1])**2)\r\n",
    "dis2Centroids[ipoint, 1] = np.sqrt((x1-C2[0])**2 + (x2-C2[1])**2)\r\n",
    "\r\n",
    "print(dis2Centroids)"
   ],
   "outputs": [
    {
     "output_type": "stream",
     "name": "stdout",
     "text": [
      "[[1.20185043 5.31507291]\n",
      " [1.33333333 3.20156212]\n",
      " [1.20185043 4.27200187]\n",
      " [4.48454135 0.5       ]\n",
      " [3.88730126 0.5       ]]\n"
     ]
    }
   ],
   "metadata": {}
  },
  {
   "cell_type": "code",
   "execution_count": 341,
   "source": [
    "# Assign each point to the centroid with the minimum Euclidean distance\r\n",
    "\r\n",
    "#cluster = np. array([1, 2, 1, 2, 2])\r\n",
    "#cluster = np. array([1, 1, 1, 2, 2])\r\n",
    "cluster = np. array([1, 1, 1, 2, 2])\r\n"
   ],
   "outputs": [],
   "metadata": {}
  },
  {
   "cell_type": "code",
   "execution_count": 348,
   "source": [
    "# Scatter plot of the data asigning each point to the cluster it belongs to ¡¡\r\n",
    "\r\n",
    "df1 = dataset[cluster == 1]\r\n",
    "df2 = dataset[cluster == 2]\r\n",
    "\r\n",
    "#print(dataset)\r\n",
    "#print(df1)\r\n",
    "#print(df2)\r\n",
    "\r\n",
    "plt.scatter(df1.x1, df1.x2, color = 'r', marker = 'o', s = 100, alpha = 0.9)\r\n",
    "plt.scatter(df2.x1, df2.x2, color = 'b', marker = 's', s = 100, alpha = 0.9)\r\n",
    "\r\n",
    "plt.scatter(C1[0], C1[1], color = 'r', marker = 'o', s = 500, alpha = 0.1)\r\n",
    "plt.scatter(C2[0], C2[1], color = 'b', marker = 's', s = 500, alpha = 0.1)\r\n",
    "\r\n",
    "plt.title('Clusters', fontsize = 18)\r\n",
    "plt.xlabel('x1', fontsize = 18)\r\n",
    "plt.ylabel('x2', fontsize = 18)\r\n",
    "\r\n",
    "plt.xlim(1, 7)\r\n",
    "plt.ylim(1, 7)\r\n",
    "\r\n",
    "plt.show()\r\n"
   ],
   "outputs": [
    {
     "output_type": "display_data",
     "data": {
      "image/png": "[encoded data removed]",
      "text/plain": [
       "<Figure size 432x288 with 1 Axes>"
      ]
     },
     "metadata": {
      "needs_background": "light"
     }
    }
   ],
   "metadata": {}
  },
  {
   "cell_type": "markdown",
   "source": [
    "## 5: Compute the new centroid (mean) of each cluster\n",
    "\n",
    "Compute the new centroid of each cluster"
   ],
   "metadata": {}
  },
  {
   "cell_type": "code",
   "execution_count": 343,
   "source": [
    "# Let's compute the 1st Centroid \r\n",
    "print(df1)\r\n",
    "\r\n",
    "C1new = np.array([0., 0.])\r\n",
    "\r\n",
    "C1new[0] = df1.x1.mean()\r\n",
    "C1new[1] = df1.x2.mean()"
   ],
   "outputs": [
    {
     "output_type": "stream",
     "name": "stdout",
     "text": [
      "   x1  x2\n",
      "0   2   2\n",
      "1   4   3\n",
      "2   2   4\n"
     ]
    }
   ],
   "metadata": {}
  },
  {
   "cell_type": "code",
   "execution_count": 344,
   "source": [
    "# Let's compute the 2nd Centroid \r\n",
    "print(df2)\r\n",
    "\r\n",
    "C2new = np.array([0., 0.])\r\n",
    "\r\n",
    "C2new[0] = df2.x1.mean()\r\n",
    "C2new[1] = df2.x2.mean()\r\n"
   ],
   "outputs": [
    {
     "output_type": "stream",
     "name": "stdout",
     "text": [
      "   x1  x2\n",
      "3   6   6\n",
      "4   6   5\n"
     ]
    }
   ],
   "metadata": {}
  },
  {
   "cell_type": "code",
   "execution_count": 349,
   "source": [
    "# Scatter plot of the data asigning each point to the cluster it belongs to ¡¡\r\n",
    "\r\n",
    "plt.scatter(df1.x1, df1.x2, color = 'r', marker = 'o', s = 100, alpha = 0.9)\r\n",
    "plt.scatter(df2.x1, df2.x2, color = 'b', marker = 's', s = 100, alpha = 0.9)\r\n",
    "\r\n",
    "plt.scatter(C1[0], C1[1], color = 'r', marker = 'o', s = 800, alpha = 0.6)\r\n",
    "plt.scatter(C2[0], C2[1], color = 'b', marker = 's', s = 800, alpha = 0.6)\r\n",
    "\r\n",
    "plt.scatter(C1new[0], C1new[1], color = 'r', marker = 'o', s = 500, alpha = 0.7)\r\n",
    "plt.scatter(C2new[0], C2new[1], color = 'b', marker = 's', s = 500, alpha = 0.7)\r\n",
    "\r\n",
    "plt.title('Clusters', fontsize = 18)\r\n",
    "plt.xlabel('x1', fontsize = 18)\r\n",
    "plt.ylabel('x2', fontsize = 18)\r\n",
    "\r\n",
    "plt.xlim(1, 7)\r\n",
    "plt.ylim(1, 7)\r\n",
    "\r\n",
    "plt.show()\r\n",
    "\r\n"
   ],
   "outputs": [
    {
     "output_type": "display_data",
     "data": {
      "image/png": "[encoded data removed]",
      "text/plain": [
       "<Figure size 432x288 with 1 Axes>"
      ]
     },
     "metadata": {
      "needs_background": "light"
     }
    }
   ],
   "metadata": {}
  },
  {
   "cell_type": "markdown",
   "source": [
    "## 6: Until the centroids do not change \n",
    "\n",
    "If the centroids do not change, then, none of the data points change of the assigned cluster\n"
   ],
   "metadata": {}
  },
  {
   "cell_type": "code",
   "execution_count": 350,
   "source": [
    "print(C1)\r\n",
    "print(C1new)\r\n"
   ],
   "outputs": [
    {
     "output_type": "stream",
     "name": "stdout",
     "text": [
      "[2.66666667 3.        ]\n",
      "[2.66666667 3.        ]\n"
     ]
    }
   ],
   "metadata": {}
  },
  {
   "cell_type": "code",
   "execution_count": 351,
   "source": [
    "print(C2)\r\n",
    "print(C2new)\r\n"
   ],
   "outputs": [
    {
     "output_type": "stream",
     "name": "stdout",
     "text": [
      "[6.  5.5]\n",
      "[6.  5.5]\n"
     ]
    }
   ],
   "metadata": {}
  },
  {
   "cell_type": "markdown",
   "source": [
    "#### If the centroids do change... go to 3 (recall to use the new centroids)\n",
    "\n",
    "#### If the centroids do not change... done ¡¡"
   ],
   "metadata": {}
  },
  {
   "cell_type": "code",
   "execution_count": 352,
   "source": [
    "# Scatter plot of the data asigning each point to the cluster it belongs to ¡¡\r\n",
    "\r\n",
    "plt.scatter(df1.x1, df1.x2, color = 'r', marker = 'o', s = 100, alpha = 0.9)\r\n",
    "plt.scatter(df2.x1, df2.x2, color = 'b', marker = 's', s = 100, alpha = 0.9)\r\n",
    "\r\n",
    "plt.scatter(C1new[0], C1new[1], color = 'r', marker = 'o', s = 500, alpha = 0.7)\r\n",
    "plt.scatter(C2new[0], C2new[1], color = 'b', marker = 's', s = 500, alpha = 0.7)\r\n",
    "\r\n",
    "plt.title('Clusters', fontsize = 18)\r\n",
    "plt.xlabel('x1', fontsize = 18)\r\n",
    "plt.ylabel('x2', fontsize = 18)\r\n",
    "\r\n",
    "plt.xlim(1, 7)\r\n",
    "plt.ylim(1, 7)\r\n",
    "\r\n",
    "plt.show()"
   ],
   "outputs": [
    {
     "output_type": "display_data",
     "data": {
      "image/png": "[encoded data removed]",
      "text/plain": [
       "<Figure size 432x288 with 1 Axes>"
      ]
     },
     "metadata": {
      "needs_background": "light"
     }
    }
   ],
   "metadata": {}
  }
 ],
 "metadata": {
  "kernelspec": {
   "name": "python3",
   "display_name": "Python 3.8.5 32-bit"
  },
  "language_info": {
   "name": "python",
   "version": "3.8.5",
   "mimetype": "text/x-python",
   "codemirror_mode": {
    "name": "ipython",
    "version": 3
   },
   "pygments_lexer": "ipython3",
   "nbconvert_exporter": "python",
   "file_extension": ".py"
  },
  "interpreter": {
   "hash": "b74379f84d7abf481b8ca701507731bd42b1feea4fa8cfcb1a28eec2267c6830"
  }
 },
 "nbformat": 4,
 "nbformat_minor": 2
}