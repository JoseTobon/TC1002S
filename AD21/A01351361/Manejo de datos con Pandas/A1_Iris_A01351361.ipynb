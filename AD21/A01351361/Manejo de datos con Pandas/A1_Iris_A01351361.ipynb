{
 "cells": [
  {
   "cell_type": "markdown",
   "id": "c62015bb",
   "metadata": {},
   "source": [
    "# Activity: work with the iris dataset\n",
    "Load the iris.csv file in your computer and compare with the data printed above.\n",
    "How many observations (rows) are in total?\n",
    "How many variables (columns) are in total? What do they represent?\n",
    "How many observatoins are for each type of flower?\n",
    "What is the type of data for each variable?\n",
    "What are the units of each variable?"
   ]
  },
  {
   "cell_type": "code",
   "execution_count": 2,
   "id": "16667418",
   "metadata": {},
   "outputs": [],
   "source": [
    "# Import the packages that we will be using\n",
    "import matplotlib.pyplot as plt\n",
    "import pandas as pd                 # For data handling\n",
    "\n",
    "# Dataset url\n",
    "url = \"datasets/iris/iris.csv\"\n",
    "\n",
    "# Load the dataset\n",
    "dataset = pd.read_csv(url )"
   ]
  },
  {
   "cell_type": "code",
   "execution_count": 3,
   "id": "57bfb29f",
   "metadata": {},
   "outputs": [
    {
     "name": "stdout",
     "output_type": "stream",
     "text": [
      "     sepallength  sepalwidth  petallength  petalwidth          nombre\n",
      "0            5.1         3.5          1.4         0.2     Iris-setosa\n",
      "1            4.9         3.0          1.4         0.2     Iris-setosa\n",
      "2            4.7         3.2          1.3         0.2     Iris-setosa\n",
      "3            4.6         3.1          1.5         0.2     Iris-setosa\n",
      "4            5.0         3.6          1.4         0.2     Iris-setosa\n",
      "..           ...         ...          ...         ...             ...\n",
      "145          6.7         3.0          5.2         2.3  Iris-virginica\n",
      "146          6.3         2.5          5.0         1.9  Iris-virginica\n",
      "147          6.5         3.0          5.2         2.0  Iris-virginica\n",
      "148          6.2         3.4          5.4         2.3  Iris-virginica\n",
      "149          5.9         3.0          5.1         1.8  Iris-virginica\n",
      "\n",
      "[150 rows x 5 columns]\n"
     ]
    }
   ],
   "source": [
    "print(dataset)"
   ]
  },
  {
   "cell_type": "code",
   "execution_count": 4,
   "id": "dc046c39",
   "metadata": {},
   "outputs": [
    {
     "data": {
      "text/plain": [
       "sepallength    float64\n",
       "sepalwidth     float64\n",
       "petallength    float64\n",
       "petalwidth     float64\n",
       "nombre          object\n",
       "dtype: object"
      ]
     },
     "execution_count": 4,
     "metadata": {},
     "output_type": "execute_result"
    }
   ],
   "source": [
    "dataset.dtypes"
   ]
  },
  {
   "cell_type": "code",
   "execution_count": 7,
   "id": "f9450a69",
   "metadata": {},
   "outputs": [
    {
     "data": {
      "text/plain": [
       "Index(['sepallength', 'sepalwidth', 'petallength', 'petalwidth', 'nombre'], dtype='object')"
      ]
     },
     "execution_count": 7,
     "metadata": {},
     "output_type": "execute_result"
    }
   ],
   "source": [
    "dataset.columns"
   ]
  },
  {
   "cell_type": "raw",
   "id": "99ad9336",
   "metadata": {},
   "source": []
  },
  {
   "cell_type": "code",
   "execution_count": 5,
   "id": "a6cb02e2",
   "metadata": {},
   "outputs": [],
   "source": [
    "#Load the iris.csv file in your computer and compare with the data printed above.\n",
    "\n",
    "\n",
    "#How many observations (rows) are in total?\n",
    "# - Hay 150 observaciones en total en los datos de iris.\n",
    "\n",
    "#How many variables (columns) are in total? What do they represent?\n",
    "# - Hay 5 columnas signfican (   1. sepal length in cm, 2. sepal width in cm, 3. petal length in cm, 4. petal width in cm y el nombre de la flor)\n",
    "\n",
    "#How many observatoins are for each type of flower?\n",
    "# - 50 para Iris-Setosa\n",
    "# - 50 Iris-versicolor\n",
    "# - 50 para Iris-Setosa\n",
    "\n",
    "#What is the type of data for each variable?\n",
    "# - sepallength    float64\n",
    "# - sepalwidth     float64\n",
    "# - petallength    float64\n",
    "# - petalwidth     float64\n",
    "# - nombre          object\n",
    "# - dtype: object\n",
    "\n",
    "\n",
    "#What are the units of each variable?\n",
    "# - sepallength    cm\n",
    "# - sepalwidth    cm\n",
    "# - petallength    cm\n",
    "# - petalwidth    cm"
   ]
  },
  {
   "cell_type": "code",
   "execution_count": null,
   "id": "91eda55e",
   "metadata": {},
   "outputs": [],
   "source": []
  }
 ],
 "metadata": {
  "kernelspec": {
   "display_name": "Python 3",
   "language": "python",
   "name": "python3"
  },
  "language_info": {
   "codemirror_mode": {
    "name": "ipython",
    "version": 3
   },
   "file_extension": ".py",
   "mimetype": "text/x-python",
   "name": "python",
   "nbconvert_exporter": "python",
   "pygments_lexer": "ipython3",
   "version": "3.8.8"
  }
 },
 "nbformat": 4,
 "nbformat_minor": 5
}
