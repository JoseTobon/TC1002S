{
 "cells": [
  {
   "cell_type": "markdown",
   "metadata": {},
   "source": [
    "# K-means clustering: intuitive explanation\n",
    "\n",
    "The notebook provides an intuitive description and explanation of the k-means clustering technique. A synthetic dataset will be used to identify clusters manually.\n",
    "\n",
    "\n",
    "## Acknowledgments\n",
    "\n",
    "- Inquiries: mauricio.antelis@tec.mx\n"
   ]
  },
  {
   "cell_type": "markdown",
   "metadata": {},
   "source": [
    "# Importing libraries"
   ]
  },
  {
   "cell_type": "code",
   "execution_count": 76,
   "metadata": {},
   "outputs": [],
   "source": [
    "# Import the packages that we will be using\n",
    "import pandas as pd\n",
    "import matplotlib.pyplot as plt\n",
    "import numpy as np"
   ]
  },
  {
   "cell_type": "markdown",
   "metadata": {},
   "source": [
    "# Importing data"
   ]
  },
  {
   "cell_type": "code",
   "execution_count": 77,
   "metadata": {},
   "outputs": [],
   "source": [
    "# Create synthetic data\n",
    "d = {'x1':[2,4,2,6,6],\n",
    "     'x2': [2,3,4,6,5]}\n",
    "\n",
    "# 5 observaciones\n",
    "# 2 variables\n",
    "\n",
    "#Construct dataframe\n",
    "dataset = pd.DataFrame(data=d)\n"
   ]
  },
  {
   "cell_type": "markdown",
   "metadata": {},
   "source": [
    "# Undertanding and preprocessing the data\n",
    "\n",
    "1. Get a general 'feel' of the data\n"
   ]
  },
  {
   "cell_type": "code",
   "execution_count": 78,
   "metadata": {},
   "outputs": [
    {
     "data": {
      "text/plain": [
       "(5, 2)"
      ]
     },
     "execution_count": 78,
     "metadata": {},
     "output_type": "execute_result"
    }
   ],
   "source": [
    "dataset.shape"
   ]
  },
  {
   "cell_type": "markdown",
   "metadata": {},
   "source": [
    "2. Scatter plot of the data"
   ]
  },
  {
   "cell_type": "code",
   "execution_count": 79,
   "metadata": {},
   "outputs": [
    {
     "data": {
      "image/png": "[encoded data removed]",
      "text/plain": [
       "<Figure size 432x288 with 1 Axes>"
      ]
     },
     "metadata": {
      "needs_background": "light"
     },
     "output_type": "display_data"
    }
   ],
   "source": [
    "plt.scatter(dataset.x1, dataset.x2, s=100)\n",
    "plt.title('Dataset Scatterplot', fontsize=18)\n",
    "plt.xlabel('x1', fontsize=18)\n",
    "plt.ylabel('x2', fontsize=18)\n",
    "plt.xlim(1,7)\n",
    "plt.ylim(1,7)\n",
    "\n",
    "plt.show()"
   ]
  },
  {
   "cell_type": "markdown",
   "metadata": {},
   "source": [
    "Note that for this dataset we do not know in advance the cluster/group/class to which each point belongs to, and that is what we want to do: to identify the existing cluster/group/class, i.e., to assing each point to a cluster/group/class"
   ]
  },
  {
   "cell_type": "markdown",
   "metadata": {},
   "source": [
    "3. Preprocessing the data\n",
    "\n",
    "No preprocessing is required"
   ]
  },
  {
   "cell_type": "markdown",
   "metadata": {},
   "source": [
    "# Kmeans clustering\n",
    "\n",
    "Intuitive explanation"
   ]
  },
  {
   "cell_type": "markdown",
   "metadata": {},
   "source": [
    "### Initialize/Preliminaries"
   ]
  },
  {
   "cell_type": "code",
   "execution_count": 80,
   "metadata": {},
   "outputs": [
    {
     "data": {
      "text/plain": [
       "5"
      ]
     },
     "execution_count": 80,
     "metadata": {},
     "output_type": "execute_result"
    }
   ],
   "source": [
    "# Compute the number of points in the dataset\n",
    "index = dataset.index\n",
    "nPoints = len(index)\n",
    "nPoints"
   ]
  },
  {
   "cell_type": "markdown",
   "metadata": {},
   "source": [
    "## 1: Specify the number of clusters\n",
    "\n",
    "Define the number $K$ of clusters"
   ]
  },
  {
   "cell_type": "code",
   "execution_count": 81,
   "metadata": {},
   "outputs": [],
   "source": [
    "# Let's assume our data has two clusters (note that the rest of the code is for K=2)\n",
    "k = 2;"
   ]
  },
  {
   "cell_type": "markdown",
   "metadata": {},
   "source": [
    "## 2: Initialize the centroids of the clusters\n",
    "\n",
    "Randomly initialize the centroids of the clusters $C_1, C_2, \\cdots, C_K$"
   ]
  },
  {
   "cell_type": "code",
   "execution_count": 82,
   "metadata": {},
   "outputs": [
    {
     "name": "stdout",
     "output_type": "stream",
     "text": [
      "[1.5 3. ] [3. 3.]\n"
     ]
    }
   ],
   "source": [
    "# Let's initialize the centroids for the K=2 clusters (this has to be done randomly)\n",
    "\n",
    "c1 = np.array([1.5, 3.0])\n",
    "c2 = np.array([3.0, 3.0])\n",
    "\n",
    "print(c1, c2)"
   ]
  },
  {
   "cell_type": "code",
   "execution_count": 83,
   "metadata": {},
   "outputs": [
    {
     "data": {
      "image/png": "[encoded data removed]",
      "text/plain": [
       "<Figure size 432x288 with 1 Axes>"
      ]
     },
     "metadata": {
      "needs_background": "light"
     },
     "output_type": "display_data"
    }
   ],
   "source": [
    "# Plot the points and the centroids\n",
    "plt.scatter(dataset.x1, dataset.x2, s=100)\n",
    "plt.scatter(c1[0], c1[1], color='r', marker=\"o\", s=500, alpha=0.9)\n",
    "plt.scatter(c2[0], c2[1], color='b', marker=\"s\", s=500, alpha=0.9)\n",
    "plt.title('Dataset Scatterplot', fontsize=18)\n",
    "plt.xlabel('x1', fontsize=18)\n",
    "plt.ylabel('x2', fontsize=18)\n",
    "plt.xlim(1,7)\n",
    "plt.ylim(1,7)\n",
    "\n",
    "plt.show()"
   ]
  },
  {
   "cell_type": "markdown",
   "metadata": {},
   "source": [
    "## 3:  Repeat the following\n"
   ]
  },
  {
   "cell_type": "markdown",
   "metadata": {},
   "source": [
    "Define the current centroids"
   ]
  },
  {
   "cell_type": "code",
   "execution_count": 101,
   "metadata": {},
   "outputs": [],
   "source": [
    "c1 = c1New\n",
    "c2 = c2New"
   ]
  },
  {
   "cell_type": "markdown",
   "metadata": {},
   "source": [
    "## 4: Assign each point  to its closest centroid\n",
    "\n",
    "Compute the distance of each data point to each centroid\n",
    "\n",
    "Assign each point to the centroid with the minimum Euclidean distance\n",
    "\n",
    "Euclidean distance:\n",
    "- Consider two points $x=(x_1,x_2)$ and  $y=(y_1,y_2)$.\n",
    "- The Euclidean distance between these two points is \n",
    "$ d = \\sqrt {\\left( {x_1 - x_2 } \\right)^2 + \\left( {y_1 - y_2 } \\right)^2 } $\n"
   ]
  },
  {
   "cell_type": "code",
   "execution_count": 102,
   "metadata": {},
   "outputs": [
    {
     "data": {
      "text/plain": [
       "array([[1.20185043, 5.31507291],\n",
       "       [1.33333333, 3.20156212],\n",
       "       [1.20185043, 4.27200187],\n",
       "       [4.48454135, 0.5       ],\n",
       "       [3.88730126, 0.5       ]])"
      ]
     },
     "execution_count": 102,
     "metadata": {},
     "output_type": "execute_result"
    }
   ],
   "source": [
    "# Compute the distance of each data point to each centroid\n",
    "\n",
    "dis2Centroids = np.zeros((nPoints, k))\n",
    "\n",
    "# Manually\n",
    "ipoint, x1, x2 = 0, 2, 2;\n",
    "dis2Centroids[ipoint,0] = np.sqrt((x1-c1[0])**2 + (x2-c1[1])**2) \n",
    "dis2Centroids[ipoint,1] =np.sqrt((x1-c2[0])**2 + (x2-c2[1])**2) \n",
    "\n",
    "ipoint, x1, x2 = 1, 4, 3;\n",
    "dis2Centroids[ipoint,0] = np.sqrt((x1-c1[0])**2 + (x2-c1[1])**2) \n",
    "dis2Centroids[ipoint,1] =np.sqrt((x1-c2[0])**2 + (x2-c2[1])**2) \n",
    "\n",
    "ipoint, x1, x2 = 2, 2, 4;\n",
    "dis2Centroids[ipoint,0] = np.sqrt((x1-c1[0])**2 + (x2-c1[1])**2) \n",
    "dis2Centroids[ipoint,1] =np.sqrt((x1-c2[0])**2 + (x2-c2[1])**2) \n",
    "\n",
    "ipoint, x1, x2 = 3, 6, 6;\n",
    "dis2Centroids[ipoint,0] = np.sqrt((x1-c1[0])**2 + (x2-c1[1])**2) \n",
    "dis2Centroids[ipoint,1] =np.sqrt((x1-c2[0])**2 + (x2-c2[1])**2) \n",
    "\n",
    "ipoint, x1, x2 = 4, 6, 5;\n",
    "dis2Centroids[ipoint,0] = np.sqrt((x1-c1[0])**2 + (x2-c1[1])**2) \n",
    "dis2Centroids[ipoint,1] =np.sqrt((x1-c2[0])**2 + (x2-c2[1])**2) \n",
    "\n",
    "dis2Centroids"
   ]
  },
  {
   "cell_type": "code",
   "execution_count": 103,
   "metadata": {},
   "outputs": [],
   "source": [
    "# Assign each point to the centroid with the minimum Euclidean distance\n",
    "#cluster = np.array([1, 2, 1, 2, 2])\n",
    "cluster = np.array([1, 1, 1, 2, 2])\n",
    "#cluster = np.array([1, 1, 1, 2, 2])"
   ]
  },
  {
   "cell_type": "code",
   "execution_count": 104,
   "metadata": {},
   "outputs": [
    {
     "data": {
      "image/png": "[encoded data removed]",
      "text/plain": [
       "<Figure size 432x288 with 1 Axes>"
      ]
     },
     "metadata": {
      "needs_background": "light"
     },
     "output_type": "display_data"
    }
   ],
   "source": [
    "# Scatter plot of the data asigning each point to the cluster it belongs to ¡¡\n",
    "df1 = dataset[cluster==1]\n",
    "df2 = dataset[cluster==2]\n",
    "\n",
    "plt.scatter(df1.x1, df1.x2, color='r', marker=\"o\", s=100, alpha=0.9)\n",
    "plt.scatter(df2.x1, df2.x2, color='b', marker=\"s\", s=100, alpha=0.9)\n",
    "\n",
    "plt.scatter(c1[0], c1[1], color='r', marker=\"o\", s=500, alpha=0.1)\n",
    "plt.scatter(c2[0], c2[1], color='b', marker=\"s\", s=500, alpha=0.1)\n",
    "\n",
    "plt.scatter(c1New[0], c1New[1], color='r', marker=\"o\", s=500, alpha=0.9)\n",
    "plt.scatter(c2New[0], c2New[1], color='b', marker=\"s\", s=500, alpha=0.9)\n",
    "\n",
    "plt.title('Clusters', fontsize=18)\n",
    "plt.xlabel('x1', fontsize=18)\n",
    "plt.ylabel('x2', fontsize=18)\n",
    "\n",
    "plt.xlim(1,7)\n",
    "plt.ylim(1,7)\n",
    "\n",
    "plt.show()"
   ]
  },
  {
   "cell_type": "markdown",
   "metadata": {},
   "source": [
    "## 5: Compute the new centroid (mean) of each cluster\n",
    "\n",
    "Compute the new centroid of each cluster"
   ]
  },
  {
   "cell_type": "code",
   "execution_count": 105,
   "metadata": {},
   "outputs": [
    {
     "data": {
      "text/plain": [
       "array([2.66666667, 3.        ])"
      ]
     },
     "execution_count": 105,
     "metadata": {},
     "output_type": "execute_result"
    }
   ],
   "source": [
    "# Let's compute the 1st Centroid \n",
    "c1New = np.array([0., 0.]);\n",
    "\n",
    "\n",
    "\n",
    "c1New[0] = df1.x1.mean();\n",
    "c1New[1] = df1.x2.mean();\n",
    "\n",
    "c1New"
   ]
  },
  {
   "cell_type": "code",
   "execution_count": 106,
   "metadata": {},
   "outputs": [
    {
     "data": {
      "text/plain": [
       "array([6. , 5.5])"
      ]
     },
     "execution_count": 106,
     "metadata": {},
     "output_type": "execute_result"
    }
   ],
   "source": [
    "# Let's compute the 2nd Centroid \n",
    "c2New = np.array([0., 0.]);\n",
    "c2New[0] = df2.x1.mean();\n",
    "c2New[1] = df2.x2.mean();\n",
    "\n",
    "c2New"
   ]
  },
  {
   "cell_type": "code",
   "execution_count": 107,
   "metadata": {},
   "outputs": [
    {
     "data": {
      "text/plain": [
       "(1.0, 7.0)"
      ]
     },
     "execution_count": 107,
     "metadata": {},
     "output_type": "execute_result"
    },
    {
     "data": {
      "image/png": "[encoded data removed]",
      "text/plain": [
       "<Figure size 432x288 with 1 Axes>"
      ]
     },
     "metadata": {
      "needs_background": "light"
     },
     "output_type": "display_data"
    }
   ],
   "source": [
    "# Scatter plot of the data asigning each point to the cluster it belongs to ¡¡\n",
    "\n",
    "plt.scatter(df1.x1, df1.x2, color='r', marker=\"o\", s=100, alpha=0.9)\n",
    "plt.scatter(df2.x1, df2.x2, color='b', marker=\"s\", s=100, alpha=0.9)\n",
    "\n",
    "plt.scatter(df1.x1, df1.x2, color='r', marker=\"o\", s=100, alpha=0.9)\n",
    "plt.scatter(df2.x1, df2.x2, color='b', marker=\"s\", s=100, alpha=0.9)\n",
    "\n",
    "plt.title('Clusters', fontsize=18)\n",
    "plt.xlabel('x1', fontsize=18)\n",
    "plt.ylabel('x2', fontsize=18)\n",
    "\n",
    "plt.xlim(1,7)\n",
    "plt.ylim(1,7)\n"
   ]
  },
  {
   "cell_type": "markdown",
   "metadata": {},
   "source": [
    "## 6: Until the centroids do not change \n",
    "\n",
    "If the centroids do not change, then, none of the data points change of the assigned cluster\n"
   ]
  },
  {
   "cell_type": "code",
   "execution_count": 108,
   "metadata": {},
   "outputs": [
    {
     "data": {
      "text/plain": [
       "(array([2.66666667, 3.        ]), array([2.66666667, 3.        ]))"
      ]
     },
     "execution_count": 108,
     "metadata": {},
     "output_type": "execute_result"
    }
   ],
   "source": [
    "c1, c1New"
   ]
  },
  {
   "cell_type": "code",
   "execution_count": 109,
   "metadata": {},
   "outputs": [
    {
     "data": {
      "text/plain": [
       "(array([6. , 5.5]), array([6. , 5.5]))"
      ]
     },
     "execution_count": 109,
     "metadata": {},
     "output_type": "execute_result"
    }
   ],
   "source": [
    "c2, c2New"
   ]
  },
  {
   "cell_type": "markdown",
   "metadata": {},
   "source": [
    "#### If the centroids do change... go to 3 (recall to use the new centroids)\n",
    "\n",
    "#### If the centroids do not change... done ¡¡"
   ]
  }
 ],
 "metadata": {
  "kernelspec": {
   "display_name": "Python 3",
   "language": "python",
   "name": "python3"
  },
  "language_info": {
   "codemirror_mode": {
    "name": "ipython",
    "version": 3
   },
   "file_extension": ".py",
   "mimetype": "text/x-python",
   "name": "python",
   "nbconvert_exporter": "python",
   "pygments_lexer": "ipython3",
   "version": "3.8.8"
  }
 },
 "nbformat": 4,
 "nbformat_minor": 2
}
