{
 "cells": [
  {
   "cell_type": "markdown",
   "metadata": {},
   "source": [
    "<h1>A01639631 Alan Paul García Rosales"
   ]
  },
  {
   "cell_type": "markdown",
   "metadata": {},
   "source": [
    "# Activity: work with the iris dataset\n",
    "\n",
    "1. Do clustering with the iris flower dataset to form clusters using as features petal width and length. Drop out the other two features (sepal width and length) for simplicity.\n",
    "\n",
    "\n",
    "2. Do clustering with the iris flower dataset to form clusters using as features sepal width and length. Drop out the other two features (petal width and length) for simplicity.\n",
    "\n",
    "\n",
    "3. Do clustering with the iris flower dataset to form clusters using as features sepal and petal width and length. Notice that scatter plots here are not possible\n",
    "\n",
    "\n",
    "4. For the previous cases: \n",
    "    - With and without using min max scaling: determine whether the scaling benefits or not\n",
    "    - Compute and show the elbow plot\n",
    "\n",
    "\n",
    "5. Draw conclusiones:\n",
    "    - About the scalling: does it helps or not?\n",
    "    - About the elbow plot: does the K agree with the real number of clusters?\n",
    "    - Comparison between (i) sepal features alone, (ii) petal features alone, and (ii) both sepal with petal features: which one is better/worse? Why?"
   ]
  },
  {
   "cell_type": "markdown",
   "metadata": {},
   "source": [
    "<h3>1. Do clustering with the iris flower dataset to form clusters using as features petal width and length. Drop out the other two features (sepal width and length) for simplicity."
   ]
  },
  {
   "cell_type": "code",
   "execution_count": 1,
   "metadata": {},
   "outputs": [
    {
     "data": {
      "text/html": [
       "<div>\n",
       "<style scoped>\n",
       "    .dataframe tbody tr th:only-of-type {\n",
       "        vertical-align: middle;\n",
       "    }\n",
       "\n",
       "    .dataframe tbody tr th {\n",
       "        vertical-align: top;\n",
       "    }\n",
       "\n",
       "    .dataframe thead th {\n",
       "        text-align: right;\n",
       "    }\n",
       "</style>\n",
       "<table border=\"1\" class=\"dataframe\">\n",
       "  <thead>\n",
       "    <tr style=\"text-align: right;\">\n",
       "      <th></th>\n",
       "      <th>sepal length</th>\n",
       "      <th>sepal width</th>\n",
       "      <th>petal length</th>\n",
       "      <th>petal width</th>\n",
       "      <th>type</th>\n",
       "    </tr>\n",
       "  </thead>\n",
       "  <tbody>\n",
       "    <tr>\n",
       "      <th>0</th>\n",
       "      <td>5.1</td>\n",
       "      <td>3.5</td>\n",
       "      <td>1.4</td>\n",
       "      <td>0.2</td>\n",
       "      <td>Iris-setosa</td>\n",
       "    </tr>\n",
       "    <tr>\n",
       "      <th>1</th>\n",
       "      <td>4.9</td>\n",
       "      <td>3.0</td>\n",
       "      <td>1.4</td>\n",
       "      <td>0.2</td>\n",
       "      <td>Iris-setosa</td>\n",
       "    </tr>\n",
       "    <tr>\n",
       "      <th>2</th>\n",
       "      <td>4.7</td>\n",
       "      <td>3.2</td>\n",
       "      <td>1.3</td>\n",
       "      <td>0.2</td>\n",
       "      <td>Iris-setosa</td>\n",
       "    </tr>\n",
       "    <tr>\n",
       "      <th>3</th>\n",
       "      <td>4.6</td>\n",
       "      <td>3.1</td>\n",
       "      <td>1.5</td>\n",
       "      <td>0.2</td>\n",
       "      <td>Iris-setosa</td>\n",
       "    </tr>\n",
       "  </tbody>\n",
       "</table>\n",
       "</div>"
      ],
      "text/plain": [
       "   sepal length  sepal width  petal length  petal width         type\n",
       "0           5.1          3.5           1.4          0.2  Iris-setosa\n",
       "1           4.9          3.0           1.4          0.2  Iris-setosa\n",
       "2           4.7          3.2           1.3          0.2  Iris-setosa\n",
       "3           4.6          3.1           1.5          0.2  Iris-setosa"
      ]
     },
     "execution_count": 1,
     "metadata": {},
     "output_type": "execute_result"
    }
   ],
   "source": [
    "# Import the packages that we will be using\n",
    "import pandas as pd\n",
    "import seaborn as sns\n",
    "import matplotlib.pyplot as plt\n",
    "import numpy as np\n",
    "from sklearn.cluster import KMeans\n",
    "\n",
    "url = \"datasets/iris/iris.csv\"\n",
    "\n",
    "#Read de .csv file snf dtore it as a pandas dataframe\n",
    "dataset = pd.read_csv(url)\n",
    "dataset.head(4)"
   ]
  },
  {
   "cell_type": "code",
   "execution_count": 2,
   "metadata": {},
   "outputs": [
    {
     "name": "stdout",
     "output_type": "stream",
     "text": [
      "Index(['petalLength', 'petalWidth', 'type'], dtype='object')\n"
     ]
    }
   ],
   "source": [
    "dataset = dataset.dropna()\n",
    "dataset = dataset.replace({\"type\":{\"Iris-setosa\": 1, \"Iris-versicolor\": 2, \"Iris-virginica\": 3}})\n",
    "dataset.drop(['sepal length','sepal width'], axis='columns', inplace=True)\n",
    "dataset = dataset.rename(columns={'petal length':'petalLength', 'petal width':'petalWidth'})\n",
    "print(dataset.columns)"
   ]
  },
  {
   "cell_type": "code",
   "execution_count": 3,
   "metadata": {},
   "outputs": [
    {
     "name": "stdout",
     "output_type": "stream",
     "text": [
      "[1 1 1 1 1 1 1 1 1 1 1 1 1 1 1 1 1 1 1 1 1 1 1 1 1 1 1 1 1 1 1 1 1 1 1 1 1\n",
      " 1 1 1 1 1 1 1 1 1 1 1 1 1 2 2 2 2 2 2 2 2 2 2 2 2 2 2 2 2 2 2 2 2 2 2 2 2\n",
      " 2 2 2 0 2 2 2 2 2 0 2 2 2 2 2 2 2 2 2 2 2 2 2 2 2 2 0 0 0 0 0 0 2 0 0 0 0\n",
      " 0 0 0 0 0 0 0 0 2 0 0 0 0 0 0 2 0 0 0 0 0 0 0 0 0 0 0 2 0 0 0 0 0 0 0 0 0\n",
      " 0 0]\n"
     ]
    }
   ],
   "source": [
    "K = 3\n",
    "\n",
    "#Crear objeto para hacer el kmeans y definir el número de clusters\n",
    "km = KMeans(n_clusters=K)\n",
    "\n",
    "#Do kmeans\n",
    "clusters = km.fit_predict(dataset[['petalLength', 'petalWidth']])\n",
    "\n",
    "print(clusters)"
   ]
  },
  {
   "cell_type": "code",
   "execution_count": 4,
   "metadata": {},
   "outputs": [
    {
     "data": {
      "text/html": [
       "<div>\n",
       "<style scoped>\n",
       "    .dataframe tbody tr th:only-of-type {\n",
       "        vertical-align: middle;\n",
       "    }\n",
       "\n",
       "    .dataframe tbody tr th {\n",
       "        vertical-align: top;\n",
       "    }\n",
       "\n",
       "    .dataframe thead th {\n",
       "        text-align: right;\n",
       "    }\n",
       "</style>\n",
       "<table border=\"1\" class=\"dataframe\">\n",
       "  <thead>\n",
       "    <tr style=\"text-align: right;\">\n",
       "      <th></th>\n",
       "      <th>petalLength</th>\n",
       "      <th>petalWidth</th>\n",
       "      <th>type</th>\n",
       "      <th>cluster1</th>\n",
       "    </tr>\n",
       "  </thead>\n",
       "  <tbody>\n",
       "    <tr>\n",
       "      <th>0</th>\n",
       "      <td>1.4</td>\n",
       "      <td>0.2</td>\n",
       "      <td>1</td>\n",
       "      <td>1</td>\n",
       "    </tr>\n",
       "    <tr>\n",
       "      <th>1</th>\n",
       "      <td>1.4</td>\n",
       "      <td>0.2</td>\n",
       "      <td>1</td>\n",
       "      <td>1</td>\n",
       "    </tr>\n",
       "    <tr>\n",
       "      <th>2</th>\n",
       "      <td>1.3</td>\n",
       "      <td>0.2</td>\n",
       "      <td>1</td>\n",
       "      <td>1</td>\n",
       "    </tr>\n",
       "    <tr>\n",
       "      <th>3</th>\n",
       "      <td>1.5</td>\n",
       "      <td>0.2</td>\n",
       "      <td>1</td>\n",
       "      <td>1</td>\n",
       "    </tr>\n",
       "    <tr>\n",
       "      <th>4</th>\n",
       "      <td>1.4</td>\n",
       "      <td>0.2</td>\n",
       "      <td>1</td>\n",
       "      <td>1</td>\n",
       "    </tr>\n",
       "    <tr>\n",
       "      <th>...</th>\n",
       "      <td>...</td>\n",
       "      <td>...</td>\n",
       "      <td>...</td>\n",
       "      <td>...</td>\n",
       "    </tr>\n",
       "    <tr>\n",
       "      <th>145</th>\n",
       "      <td>5.2</td>\n",
       "      <td>2.3</td>\n",
       "      <td>3</td>\n",
       "      <td>0</td>\n",
       "    </tr>\n",
       "    <tr>\n",
       "      <th>146</th>\n",
       "      <td>5.0</td>\n",
       "      <td>1.9</td>\n",
       "      <td>3</td>\n",
       "      <td>0</td>\n",
       "    </tr>\n",
       "    <tr>\n",
       "      <th>147</th>\n",
       "      <td>5.2</td>\n",
       "      <td>2.0</td>\n",
       "      <td>3</td>\n",
       "      <td>0</td>\n",
       "    </tr>\n",
       "    <tr>\n",
       "      <th>148</th>\n",
       "      <td>5.4</td>\n",
       "      <td>2.3</td>\n",
       "      <td>3</td>\n",
       "      <td>0</td>\n",
       "    </tr>\n",
       "    <tr>\n",
       "      <th>149</th>\n",
       "      <td>5.1</td>\n",
       "      <td>1.8</td>\n",
       "      <td>3</td>\n",
       "      <td>0</td>\n",
       "    </tr>\n",
       "  </tbody>\n",
       "</table>\n",
       "<p>150 rows × 4 columns</p>\n",
       "</div>"
      ],
      "text/plain": [
       "     petalLength  petalWidth  type  cluster1\n",
       "0            1.4         0.2     1         1\n",
       "1            1.4         0.2     1         1\n",
       "2            1.3         0.2     1         1\n",
       "3            1.5         0.2     1         1\n",
       "4            1.4         0.2     1         1\n",
       "..           ...         ...   ...       ...\n",
       "145          5.2         2.3     3         0\n",
       "146          5.0         1.9     3         0\n",
       "147          5.2         2.0     3         0\n",
       "148          5.4         2.3     3         0\n",
       "149          5.1         1.8     3         0\n",
       "\n",
       "[150 rows x 4 columns]"
      ]
     },
     "execution_count": 4,
     "metadata": {},
     "output_type": "execute_result"
    }
   ],
   "source": [
    "dataset['cluster1'] = clusters\n",
    "dataset\n"
   ]
  },
  {
   "cell_type": "code",
   "execution_count": 5,
   "metadata": {},
   "outputs": [
    {
     "data": {
      "text/plain": [
       "array([[5.59583333, 2.0375    ],\n",
       "       [1.462     , 0.246     ],\n",
       "       [4.26923077, 1.34230769]])"
      ]
     },
     "execution_count": 5,
     "metadata": {},
     "output_type": "execute_result"
    }
   ],
   "source": [
    "km.cluster_centers_"
   ]
  },
  {
   "cell_type": "code",
   "execution_count": 6,
   "metadata": {},
   "outputs": [
    {
     "data": {
      "image/png": "[encoded data removed]",
      "text/plain": [
       "<Figure size 432x288 with 1 Axes>"
      ]
     },
     "metadata": {
      "needs_background": "light"
     },
     "output_type": "display_data"
    }
   ],
   "source": [
    "#Clusters calculados\n",
    "df1 = dataset[dataset.cluster1 == 0]\n",
    "df2 = dataset[dataset.cluster1 == 1]\n",
    "df3 = dataset[dataset.cluster1 == 2]\n",
    "\n",
    "plt.scatter(df1.petalLength, df1.petalWidth, color='#22577A', marker = 'o', s=100, alpha=1)\n",
    "plt.scatter(df2.petalLength, df2.petalWidth, color='#7EB5A6', marker = 'o', s=100, alpha=1)\n",
    "plt.scatter(df3.petalLength, df3.petalWidth, color='#FFE194', marker = 'o', s=100, alpha=1)\n",
    "\n",
    "\n",
    "plt.title('Clusters', fontsize=18)\n",
    "plt.xlabel('Petal length', fontsize=18)\n",
    "plt.ylabel('Petal width', fontsize=18)\n",
    " \n",
    "plt.show()\n"
   ]
  },
  {
   "cell_type": "code",
   "execution_count": 7,
   "metadata": {},
   "outputs": [
    {
     "name": "stdout",
     "output_type": "stream",
     "text": [
      "    petalLength  petalWidth  type  cluster1\n",
      "0      0.067797    0.041667     1         1\n",
      "1      0.067797    0.041667     1         1\n",
      "2      0.050847    0.041667     1         1\n",
      "3      0.084746    0.041667     1         1\n",
      "4      0.067797    0.041667     1         1\n",
      "5      0.118644    0.125000     1         1\n",
      "6      0.067797    0.083333     1         1\n",
      "7      0.084746    0.041667     1         1\n",
      "8      0.067797    0.041667     1         1\n",
      "9      0.084746    0.000000     1         1\n",
      "10     0.084746    0.041667     1         1\n",
      "11     0.101695    0.041667     1         1\n",
      "12     0.067797    0.000000     1         1\n",
      "13     0.016949    0.000000     1         1\n",
      "14     0.033898    0.041667     1         1\n",
      "15     0.084746    0.125000     1         1\n",
      "16     0.050847    0.125000     1         1\n",
      "17     0.067797    0.083333     1         1\n",
      "18     0.118644    0.083333     1         1\n",
      "19     0.084746    0.083333     1         1\n",
      "[1 1 1 1 1 1 1 1 1 1 1 1 1 1 1 1 1 1 1 1 1 1 1 1 1 1 1 1 1 1 1 1 1 1 1 1 1\n",
      " 1 1 1 1 1 1 1 1 1 1 1 1 1 0 0 0 0 0 0 0 0 0 0 0 0 0 0 0 0 0 0 0 0 2 0 0 0\n",
      " 0 0 0 2 0 0 0 0 0 0 0 0 0 0 0 0 0 0 0 0 0 0 0 0 0 0 2 2 2 2 2 2 0 2 2 2 2\n",
      " 2 2 2 2 2 2 2 2 0 2 2 2 2 2 2 2 2 2 2 2 2 2 0 0 2 2 2 2 2 2 2 2 2 2 2 2 2\n",
      " 2 2]\n",
      "    petalLength  petalWidth  type  cluster1  cluster2\n",
      "0      0.067797    0.041667     1         1         1\n",
      "1      0.067797    0.041667     1         1         1\n",
      "2      0.050847    0.041667     1         1         1\n",
      "3      0.084746    0.041667     1         1         1\n",
      "4      0.067797    0.041667     1         1         1\n",
      "5      0.118644    0.125000     1         1         1\n",
      "6      0.067797    0.083333     1         1         1\n",
      "7      0.084746    0.041667     1         1         1\n",
      "8      0.067797    0.041667     1         1         1\n",
      "9      0.084746    0.000000     1         1         1\n",
      "10     0.084746    0.041667     1         1         1\n",
      "11     0.101695    0.041667     1         1         1\n",
      "12     0.067797    0.000000     1         1         1\n",
      "13     0.016949    0.000000     1         1         1\n",
      "14     0.033898    0.041667     1         1         1\n",
      "15     0.084746    0.125000     1         1         1\n",
      "16     0.050847    0.125000     1         1         1\n",
      "17     0.067797    0.083333     1         1         1\n",
      "18     0.118644    0.083333     1         1         1\n",
      "19     0.084746    0.083333     1         1         1\n"
     ]
    },
    {
     "data": {
      "image/png": "[encoded data removed]",
      "text/plain": [
       "<Figure size 432x288 with 1 Axes>"
      ]
     },
     "metadata": {
      "needs_background": "light"
     },
     "output_type": "display_data"
    },
    {
     "name": "stdout",
     "output_type": "stream",
     "text": [
      "       petalLength  petalWidth        type    cluster1    cluster2\n",
      "count   150.000000  150.000000  150.000000  150.000000  150.000000\n",
      "mean      0.467458    0.458056    2.000000    1.026667    0.973333\n",
      "std       0.299203    0.317599    0.819232    0.818795    0.818795\n",
      "min       0.000000    0.000000    1.000000    0.000000    0.000000\n",
      "25%       0.101695    0.083333    1.000000    0.000000    0.000000\n",
      "50%       0.567797    0.500000    2.000000    1.000000    1.000000\n",
      "75%       0.694915    0.708333    3.000000    2.000000    2.000000\n",
      "max       1.000000    1.000000    3.000000    2.000000    2.000000\n"
     ]
    }
   ],
   "source": [
    "#Punto 4 parte 1\n",
    "from sklearn.preprocessing import MinMaxScaler\n",
    "\n",
    "scaler = MinMaxScaler()\n",
    "\n",
    "scaler.fit(dataset[['petalLength']])\n",
    "dataset['petalLength'] = scaler.transform(dataset[['petalLength']])\n",
    "\n",
    "scaler.fit(dataset[['petalWidth']])\n",
    "dataset['petalWidth'] = scaler.transform(dataset[['petalWidth']])\n",
    "\n",
    "print(dataset.head(20))\n",
    "\n",
    "K = 3\n",
    "\n",
    "#Crear objeto para hacer el kmeans y definir el número de clusters\n",
    "km = KMeans(n_clusters=K)\n",
    "\n",
    "#Do kmeans\n",
    "clusters = km.fit_predict(dataset[['petalLength', 'petalWidth']])\n",
    "print(clusters)\n",
    "\n",
    "dataset['cluster2'] = clusters\n",
    "print(dataset.head(20))\n",
    "\n",
    "#Clusters calculados\n",
    "df1 = dataset[dataset.cluster2 == 0]\n",
    "df2 = dataset[dataset.cluster2 == 1]\n",
    "df3 = dataset[dataset.cluster2 == 2]\n",
    "\n",
    "plt.scatter(df1.petalLength, df1.petalWidth, color='#22577A', marker = 'o', s=100, alpha=1)\n",
    "plt.scatter(df2.petalLength, df2.petalWidth, color='#7EB5A6', marker = 'o', s=100, alpha=1)\n",
    "plt.scatter(df3.petalLength, df3.petalWidth, color='#FFE194', marker = 'o', s=100, alpha=1)\n",
    "\n",
    "\n",
    "plt.title('Clusters', fontsize=18)\n",
    "plt.xlabel('Petal length', fontsize=18)\n",
    "plt.ylabel('Petal width', fontsize=18)\n",
    " \n",
    "plt.show()\n",
    "print(dataset.describe())\n"
   ]
  },
  {
   "cell_type": "code",
   "execution_count": 8,
   "metadata": {},
   "outputs": [
    {
     "data": {
      "image/png": "[encoded data removed]",
      "text/plain": [
       "<Figure size 432x288 with 1 Axes>"
      ]
     },
     "metadata": {
      "needs_background": "light"
     },
     "output_type": "display_data"
    }
   ],
   "source": [
    "#Punto 4 parte 2\n",
    "sse = []\n",
    "k_rng = range(1,10)\n",
    "\n",
    "for k in k_rng:\n",
    "    km = KMeans(n_clusters=k)\n",
    "    km.fit_predict(dataset[['petalLength', 'petalWidth']])\n",
    "    sse.append(km.inertia_)\n",
    "    \n",
    "plt.plot(k_rng, sse, color = '#93B5C6')\n",
    "plt.title('Elbow plot')\n",
    "plt.xlabel('K')\n",
    "plt.ylabel('SSE')\n",
    "plt.show()"
   ]
  },
  {
   "cell_type": "markdown",
   "metadata": {},
   "source": [
    "<h3>2. Do clustering with the iris flower dataset to form clusters using as features sepal width and length. Drop out the other two features (petal width and length) for simplicity."
   ]
  },
  {
   "cell_type": "code",
   "execution_count": 9,
   "metadata": {},
   "outputs": [
    {
     "data": {
      "text/html": [
       "<div>\n",
       "<style scoped>\n",
       "    .dataframe tbody tr th:only-of-type {\n",
       "        vertical-align: middle;\n",
       "    }\n",
       "\n",
       "    .dataframe tbody tr th {\n",
       "        vertical-align: top;\n",
       "    }\n",
       "\n",
       "    .dataframe thead th {\n",
       "        text-align: right;\n",
       "    }\n",
       "</style>\n",
       "<table border=\"1\" class=\"dataframe\">\n",
       "  <thead>\n",
       "    <tr style=\"text-align: right;\">\n",
       "      <th></th>\n",
       "      <th>sepal length</th>\n",
       "      <th>sepal width</th>\n",
       "      <th>petal length</th>\n",
       "      <th>petal width</th>\n",
       "      <th>type</th>\n",
       "    </tr>\n",
       "  </thead>\n",
       "  <tbody>\n",
       "    <tr>\n",
       "      <th>0</th>\n",
       "      <td>5.1</td>\n",
       "      <td>3.5</td>\n",
       "      <td>1.4</td>\n",
       "      <td>0.2</td>\n",
       "      <td>Iris-setosa</td>\n",
       "    </tr>\n",
       "    <tr>\n",
       "      <th>1</th>\n",
       "      <td>4.9</td>\n",
       "      <td>3.0</td>\n",
       "      <td>1.4</td>\n",
       "      <td>0.2</td>\n",
       "      <td>Iris-setosa</td>\n",
       "    </tr>\n",
       "    <tr>\n",
       "      <th>2</th>\n",
       "      <td>4.7</td>\n",
       "      <td>3.2</td>\n",
       "      <td>1.3</td>\n",
       "      <td>0.2</td>\n",
       "      <td>Iris-setosa</td>\n",
       "    </tr>\n",
       "    <tr>\n",
       "      <th>3</th>\n",
       "      <td>4.6</td>\n",
       "      <td>3.1</td>\n",
       "      <td>1.5</td>\n",
       "      <td>0.2</td>\n",
       "      <td>Iris-setosa</td>\n",
       "    </tr>\n",
       "  </tbody>\n",
       "</table>\n",
       "</div>"
      ],
      "text/plain": [
       "   sepal length  sepal width  petal length  petal width         type\n",
       "0           5.1          3.5           1.4          0.2  Iris-setosa\n",
       "1           4.9          3.0           1.4          0.2  Iris-setosa\n",
       "2           4.7          3.2           1.3          0.2  Iris-setosa\n",
       "3           4.6          3.1           1.5          0.2  Iris-setosa"
      ]
     },
     "execution_count": 9,
     "metadata": {},
     "output_type": "execute_result"
    }
   ],
   "source": [
    "#Read de .csv file snf dtore it as a pandas dataframe\n",
    "dataset = pd.read_csv(url)\n",
    "dataset.head(4)"
   ]
  },
  {
   "cell_type": "code",
   "execution_count": 10,
   "metadata": {},
   "outputs": [
    {
     "name": "stdout",
     "output_type": "stream",
     "text": [
      "Index(['sepalLength', 'sepalWidth', 'type'], dtype='object')\n"
     ]
    }
   ],
   "source": [
    "dataset = dataset.dropna()\n",
    "dataset = dataset.replace({\"type\":{\"Iris-setosa\": 1, \"Iris-versicolor\": 2, \"Iris-virginica\": 3}})\n",
    "dataset.drop(['petal length','petal width'], axis='columns', inplace=True)\n",
    "dataset = dataset.rename(columns={'sepal length':'sepalLength', 'sepal width':'sepalWidth'})\n",
    "print(dataset.columns)"
   ]
  },
  {
   "cell_type": "code",
   "execution_count": 11,
   "metadata": {},
   "outputs": [
    {
     "name": "stdout",
     "output_type": "stream",
     "text": [
      "[1 1 1 1 1 1 1 1 1 1 1 1 1 1 1 1 1 1 1 1 1 1 1 1 1 1 1 1 1 1 1 1 1 1 1 1 1\n",
      " 1 1 1 1 1 1 1 1 1 1 1 1 1 0 0 0 2 0 2 0 2 0 2 2 2 2 2 2 0 2 2 2 2 2 2 2 2\n",
      " 0 0 0 0 2 2 2 2 2 2 2 2 0 2 2 2 2 2 2 2 2 2 2 2 2 2 0 2 0 0 0 0 2 0 0 0 0\n",
      " 0 0 2 2 0 0 0 0 2 0 2 0 2 0 0 2 2 0 0 0 0 0 2 2 0 0 0 2 0 0 0 2 0 0 0 2 0\n",
      " 0 2]\n"
     ]
    }
   ],
   "source": [
    "K = 3\n",
    "\n",
    "#Crear objeto para hacer el kmeans y definir el número de clusters\n",
    "km = KMeans(n_clusters=K)\n",
    "\n",
    "#Do kmeans\n",
    "clusters = km.fit_predict(dataset[['sepalLength', 'sepalWidth']])\n",
    "\n",
    "print(clusters)"
   ]
  },
  {
   "cell_type": "code",
   "execution_count": 12,
   "metadata": {},
   "outputs": [
    {
     "data": {
      "text/html": [
       "<div>\n",
       "<style scoped>\n",
       "    .dataframe tbody tr th:only-of-type {\n",
       "        vertical-align: middle;\n",
       "    }\n",
       "\n",
       "    .dataframe tbody tr th {\n",
       "        vertical-align: top;\n",
       "    }\n",
       "\n",
       "    .dataframe thead th {\n",
       "        text-align: right;\n",
       "    }\n",
       "</style>\n",
       "<table border=\"1\" class=\"dataframe\">\n",
       "  <thead>\n",
       "    <tr style=\"text-align: right;\">\n",
       "      <th></th>\n",
       "      <th>sepalLength</th>\n",
       "      <th>sepalWidth</th>\n",
       "      <th>type</th>\n",
       "      <th>cluster1</th>\n",
       "    </tr>\n",
       "  </thead>\n",
       "  <tbody>\n",
       "    <tr>\n",
       "      <th>0</th>\n",
       "      <td>5.1</td>\n",
       "      <td>3.5</td>\n",
       "      <td>1</td>\n",
       "      <td>1</td>\n",
       "    </tr>\n",
       "    <tr>\n",
       "      <th>1</th>\n",
       "      <td>4.9</td>\n",
       "      <td>3.0</td>\n",
       "      <td>1</td>\n",
       "      <td>1</td>\n",
       "    </tr>\n",
       "    <tr>\n",
       "      <th>2</th>\n",
       "      <td>4.7</td>\n",
       "      <td>3.2</td>\n",
       "      <td>1</td>\n",
       "      <td>1</td>\n",
       "    </tr>\n",
       "    <tr>\n",
       "      <th>3</th>\n",
       "      <td>4.6</td>\n",
       "      <td>3.1</td>\n",
       "      <td>1</td>\n",
       "      <td>1</td>\n",
       "    </tr>\n",
       "    <tr>\n",
       "      <th>4</th>\n",
       "      <td>5.0</td>\n",
       "      <td>3.6</td>\n",
       "      <td>1</td>\n",
       "      <td>1</td>\n",
       "    </tr>\n",
       "    <tr>\n",
       "      <th>...</th>\n",
       "      <td>...</td>\n",
       "      <td>...</td>\n",
       "      <td>...</td>\n",
       "      <td>...</td>\n",
       "    </tr>\n",
       "    <tr>\n",
       "      <th>145</th>\n",
       "      <td>6.7</td>\n",
       "      <td>3.0</td>\n",
       "      <td>3</td>\n",
       "      <td>0</td>\n",
       "    </tr>\n",
       "    <tr>\n",
       "      <th>146</th>\n",
       "      <td>6.3</td>\n",
       "      <td>2.5</td>\n",
       "      <td>3</td>\n",
       "      <td>2</td>\n",
       "    </tr>\n",
       "    <tr>\n",
       "      <th>147</th>\n",
       "      <td>6.5</td>\n",
       "      <td>3.0</td>\n",
       "      <td>3</td>\n",
       "      <td>0</td>\n",
       "    </tr>\n",
       "    <tr>\n",
       "      <th>148</th>\n",
       "      <td>6.2</td>\n",
       "      <td>3.4</td>\n",
       "      <td>3</td>\n",
       "      <td>0</td>\n",
       "    </tr>\n",
       "    <tr>\n",
       "      <th>149</th>\n",
       "      <td>5.9</td>\n",
       "      <td>3.0</td>\n",
       "      <td>3</td>\n",
       "      <td>2</td>\n",
       "    </tr>\n",
       "  </tbody>\n",
       "</table>\n",
       "<p>150 rows × 4 columns</p>\n",
       "</div>"
      ],
      "text/plain": [
       "     sepalLength  sepalWidth  type  cluster1\n",
       "0            5.1         3.5     1         1\n",
       "1            4.9         3.0     1         1\n",
       "2            4.7         3.2     1         1\n",
       "3            4.6         3.1     1         1\n",
       "4            5.0         3.6     1         1\n",
       "..           ...         ...   ...       ...\n",
       "145          6.7         3.0     3         0\n",
       "146          6.3         2.5     3         2\n",
       "147          6.5         3.0     3         0\n",
       "148          6.2         3.4     3         0\n",
       "149          5.9         3.0     3         2\n",
       "\n",
       "[150 rows x 4 columns]"
      ]
     },
     "execution_count": 12,
     "metadata": {},
     "output_type": "execute_result"
    }
   ],
   "source": [
    "dataset['cluster1'] = clusters\n",
    "dataset\n"
   ]
  },
  {
   "cell_type": "code",
   "execution_count": 13,
   "metadata": {},
   "outputs": [
    {
     "data": {
      "text/plain": [
       "array([[6.81276596, 3.07446809],\n",
       "       [5.006     , 3.428     ],\n",
       "       [5.77358491, 2.69245283]])"
      ]
     },
     "execution_count": 13,
     "metadata": {},
     "output_type": "execute_result"
    }
   ],
   "source": [
    "km.cluster_centers_"
   ]
  },
  {
   "cell_type": "code",
   "execution_count": 14,
   "metadata": {},
   "outputs": [
    {
     "data": {
      "image/png": "[encoded data removed]",
      "text/plain": [
       "<Figure size 432x288 with 1 Axes>"
      ]
     },
     "metadata": {
      "needs_background": "light"
     },
     "output_type": "display_data"
    }
   ],
   "source": [
    "#Clusters calculados\n",
    "df1 = dataset[dataset.cluster1 == 0]\n",
    "df2 = dataset[dataset.cluster1 == 1]\n",
    "df3 = dataset[dataset.cluster1 == 2]\n",
    "\n",
    "plt.scatter(df1.sepalLength, df1.sepalWidth, color='#22577A', marker = 'o', s=100, alpha=1)\n",
    "plt.scatter(df2.sepalLength, df2.sepalWidth, color='#7EB5A6', marker = 'o', s=100, alpha=1)\n",
    "plt.scatter(df3.sepalLength, df3.sepalWidth, color='#FFE194', marker = 'o', s=100, alpha=1)\n",
    "\n",
    "\n",
    "plt.title('Clusters', fontsize=18)\n",
    "plt.xlabel('Sepal length', fontsize=18)\n",
    "plt.ylabel('Sepal width', fontsize=18)\n",
    " \n",
    "plt.show()\n"
   ]
  },
  {
   "cell_type": "code",
   "execution_count": 15,
   "metadata": {},
   "outputs": [
    {
     "name": "stdout",
     "output_type": "stream",
     "text": [
      "    sepalLength  sepalWidth  type  cluster1\n",
      "0      0.222222    0.625000     1         1\n",
      "1      0.166667    0.416667     1         1\n",
      "2      0.111111    0.500000     1         1\n",
      "3      0.083333    0.458333     1         1\n",
      "4      0.194444    0.666667     1         1\n",
      "5      0.305556    0.791667     1         1\n",
      "6      0.083333    0.583333     1         1\n",
      "7      0.194444    0.583333     1         1\n",
      "8      0.027778    0.375000     1         1\n",
      "9      0.166667    0.458333     1         1\n",
      "10     0.305556    0.708333     1         1\n",
      "11     0.138889    0.583333     1         1\n",
      "12     0.138889    0.416667     1         1\n",
      "13     0.000000    0.416667     1         1\n",
      "14     0.416667    0.833333     1         1\n",
      "15     0.388889    1.000000     1         1\n",
      "16     0.305556    0.791667     1         1\n",
      "17     0.222222    0.625000     1         1\n",
      "18     0.388889    0.750000     1         1\n",
      "19     0.222222    0.750000     1         1\n",
      "[0 0 0 0 0 0 0 0 0 0 0 0 0 0 0 0 0 0 0 0 0 0 0 0 0 0 0 0 0 0 0 0 0 0 0 0 0\n",
      " 0 0 0 0 2 0 0 0 0 0 0 0 0 1 1 1 2 1 2 1 2 1 2 2 2 2 2 2 1 2 2 2 2 2 2 2 2\n",
      " 1 1 1 1 2 2 2 2 2 2 2 1 1 2 2 2 2 2 2 2 2 2 2 2 2 2 1 2 1 1 1 1 2 1 1 1 1\n",
      " 2 1 2 2 1 1 1 1 2 1 2 1 2 1 1 2 2 1 1 1 1 1 2 2 1 1 1 2 1 1 1 2 1 1 1 2 1\n",
      " 1 2]\n",
      "    sepalLength  sepalWidth  type  cluster1  cluster2\n",
      "0      0.222222    0.625000     1         1         0\n",
      "1      0.166667    0.416667     1         1         0\n",
      "2      0.111111    0.500000     1         1         0\n",
      "3      0.083333    0.458333     1         1         0\n",
      "4      0.194444    0.666667     1         1         0\n",
      "5      0.305556    0.791667     1         1         0\n",
      "6      0.083333    0.583333     1         1         0\n",
      "7      0.194444    0.583333     1         1         0\n",
      "8      0.027778    0.375000     1         1         0\n",
      "9      0.166667    0.458333     1         1         0\n",
      "10     0.305556    0.708333     1         1         0\n",
      "11     0.138889    0.583333     1         1         0\n",
      "12     0.138889    0.416667     1         1         0\n",
      "13     0.000000    0.416667     1         1         0\n",
      "14     0.416667    0.833333     1         1         0\n",
      "15     0.388889    1.000000     1         1         0\n",
      "16     0.305556    0.791667     1         1         0\n",
      "17     0.222222    0.625000     1         1         0\n",
      "18     0.388889    0.750000     1         1         0\n",
      "19     0.222222    0.750000     1         1         0\n"
     ]
    },
    {
     "data": {
      "image/png": "[encoded data removed]",
      "text/plain": [
       "<Figure size 432x288 with 1 Axes>"
      ]
     },
     "metadata": {
      "needs_background": "light"
     },
     "output_type": "display_data"
    },
    {
     "name": "stdout",
     "output_type": "stream",
     "text": [
      "       sepalLength  sepalWidth        type    cluster1    cluster2\n",
      "count   150.000000  150.000000  150.000000  150.000000  150.000000\n",
      "mean      0.428704    0.440556    2.000000    1.040000    1.033333\n",
      "std       0.230018    0.181611    0.819232    0.818248    0.830757\n",
      "min       0.000000    0.000000    1.000000    0.000000    0.000000\n",
      "25%       0.222222    0.333333    1.000000    0.000000    0.000000\n",
      "50%       0.416667    0.416667    2.000000    1.000000    1.000000\n",
      "75%       0.583333    0.541667    3.000000    2.000000    2.000000\n",
      "max       1.000000    1.000000    3.000000    2.000000    2.000000\n"
     ]
    }
   ],
   "source": [
    "#Punto 4 parte 1\n",
    "from sklearn.preprocessing import MinMaxScaler\n",
    "\n",
    "scaler = MinMaxScaler()\n",
    "\n",
    "scaler.fit(dataset[['sepalLength']])\n",
    "dataset['sepalLength'] = scaler.transform(dataset[['sepalLength']])\n",
    "\n",
    "scaler.fit(dataset[['sepalWidth']])\n",
    "dataset['sepalWidth'] = scaler.transform(dataset[['sepalWidth']])\n",
    "\n",
    "print(dataset.head(20))\n",
    "\n",
    "K = 3\n",
    "\n",
    "#Crear objeto para hacer el kmeans y definir el número de clusters\n",
    "km = KMeans(n_clusters=K)\n",
    "\n",
    "#Do kmeans\n",
    "clusters = km.fit_predict(dataset[['sepalLength', 'sepalWidth']])\n",
    "print(clusters)\n",
    "\n",
    "dataset['cluster2'] = clusters\n",
    "print(dataset.head(20))\n",
    "\n",
    "#Clusters calculados\n",
    "df1 = dataset[dataset.cluster2 == 0]\n",
    "df2 = dataset[dataset.cluster2 == 1]\n",
    "df3 = dataset[dataset.cluster2 == 2]\n",
    "\n",
    "plt.scatter(df1.sepalLength, df1.sepalWidth, color='#22577A', marker = 'o', s=100, alpha=1)\n",
    "plt.scatter(df2.sepalLength, df2.sepalWidth, color='#7EB5A6', marker = 'o', s=100, alpha=1)\n",
    "plt.scatter(df3.sepalLength, df3.sepalWidth, color='#FFE194', marker = 'o', s=100, alpha=1)\n",
    "\n",
    "\n",
    "plt.title('Clusters', fontsize=18)\n",
    "plt.xlabel('Sepal length', fontsize=18)\n",
    "plt.ylabel('Sepal width', fontsize=18)\n",
    " \n",
    "plt.show()\n",
    "print(dataset.describe())\n"
   ]
  },
  {
   "cell_type": "code",
   "execution_count": 16,
   "metadata": {},
   "outputs": [
    {
     "data": {
      "image/png": "[encoded data removed]",
      "text/plain": [
       "<Figure size 432x288 with 1 Axes>"
      ]
     },
     "metadata": {
      "needs_background": "light"
     },
     "output_type": "display_data"
    }
   ],
   "source": [
    "#Punto 4 parte 2\n",
    "sse = []\n",
    "k_rng = range(1,10)\n",
    "\n",
    "for k in k_rng:\n",
    "    km = KMeans(n_clusters=k)\n",
    "    km.fit_predict(dataset[['sepalLength', 'sepalWidth']])\n",
    "    sse.append(km.inertia_)\n",
    "    \n",
    "plt.plot(k_rng, sse, color = '#93B5C6')\n",
    "plt.title('Elbow plot')\n",
    "plt.xlabel('K')\n",
    "plt.ylabel('SSE')\n",
    "plt.show()"
   ]
  },
  {
   "cell_type": "markdown",
   "metadata": {},
   "source": [
    "<h3>3. Do clustering with the iris flower dataset to form clusters using as features sepal and petal width and length. Notice that scatter plots here are not possible"
   ]
  },
  {
   "cell_type": "code",
   "execution_count": 17,
   "metadata": {},
   "outputs": [
    {
     "data": {
      "text/html": [
       "<div>\n",
       "<style scoped>\n",
       "    .dataframe tbody tr th:only-of-type {\n",
       "        vertical-align: middle;\n",
       "    }\n",
       "\n",
       "    .dataframe tbody tr th {\n",
       "        vertical-align: top;\n",
       "    }\n",
       "\n",
       "    .dataframe thead th {\n",
       "        text-align: right;\n",
       "    }\n",
       "</style>\n",
       "<table border=\"1\" class=\"dataframe\">\n",
       "  <thead>\n",
       "    <tr style=\"text-align: right;\">\n",
       "      <th></th>\n",
       "      <th>sepal length</th>\n",
       "      <th>sepal width</th>\n",
       "      <th>petal length</th>\n",
       "      <th>petal width</th>\n",
       "      <th>type</th>\n",
       "    </tr>\n",
       "  </thead>\n",
       "  <tbody>\n",
       "    <tr>\n",
       "      <th>0</th>\n",
       "      <td>5.1</td>\n",
       "      <td>3.5</td>\n",
       "      <td>1.4</td>\n",
       "      <td>0.2</td>\n",
       "      <td>Iris-setosa</td>\n",
       "    </tr>\n",
       "    <tr>\n",
       "      <th>1</th>\n",
       "      <td>4.9</td>\n",
       "      <td>3.0</td>\n",
       "      <td>1.4</td>\n",
       "      <td>0.2</td>\n",
       "      <td>Iris-setosa</td>\n",
       "    </tr>\n",
       "    <tr>\n",
       "      <th>2</th>\n",
       "      <td>4.7</td>\n",
       "      <td>3.2</td>\n",
       "      <td>1.3</td>\n",
       "      <td>0.2</td>\n",
       "      <td>Iris-setosa</td>\n",
       "    </tr>\n",
       "    <tr>\n",
       "      <th>3</th>\n",
       "      <td>4.6</td>\n",
       "      <td>3.1</td>\n",
       "      <td>1.5</td>\n",
       "      <td>0.2</td>\n",
       "      <td>Iris-setosa</td>\n",
       "    </tr>\n",
       "  </tbody>\n",
       "</table>\n",
       "</div>"
      ],
      "text/plain": [
       "   sepal length  sepal width  petal length  petal width         type\n",
       "0           5.1          3.5           1.4          0.2  Iris-setosa\n",
       "1           4.9          3.0           1.4          0.2  Iris-setosa\n",
       "2           4.7          3.2           1.3          0.2  Iris-setosa\n",
       "3           4.6          3.1           1.5          0.2  Iris-setosa"
      ]
     },
     "execution_count": 17,
     "metadata": {},
     "output_type": "execute_result"
    }
   ],
   "source": [
    "#Read de .csv file snf dtore it as a pandas dataframe\n",
    "dataset = pd.read_csv(url)\n",
    "dataset.head(4)\n"
   ]
  },
  {
   "cell_type": "code",
   "execution_count": 18,
   "metadata": {},
   "outputs": [
    {
     "name": "stdout",
     "output_type": "stream",
     "text": [
      "Index(['sepalLength', 'sepalWidth', 'petalLength', 'petalWidth', 'type'], dtype='object')\n"
     ]
    }
   ],
   "source": [
    "dataset = dataset.dropna()\n",
    "dataset = dataset.replace({\"type\":{\"Iris-setosa\": 1, \"Iris-versicolor\": 2, \"Iris-virginica\": 3}})\n",
    "dataset = dataset.rename(columns={'sepal length':'sepalLength', \n",
    "                                  'sepal width':'sepalWidth', \n",
    "                                  'petal length':'petalLength', \n",
    "                                  'petal width':'petalWidth'})\n",
    "print(dataset.columns)"
   ]
  },
  {
   "cell_type": "code",
   "execution_count": 19,
   "metadata": {},
   "outputs": [
    {
     "name": "stdout",
     "output_type": "stream",
     "text": [
      "[1 1 1 1 1 1 1 1 1 1 1 1 1 1 1 1 1 1 1 1 1 1 1 1 1 1 1 1 1 1 1 1 1 1 1 1 1\n",
      " 1 1 1 1 1 1 1 1 1 1 1 1 1 0 0 2 0 0 0 0 0 0 0 0 0 0 0 0 0 0 0 0 0 0 0 0 0\n",
      " 0 0 0 2 0 0 0 0 0 0 0 0 0 0 0 0 0 0 0 0 0 0 0 0 0 0 2 0 2 2 2 2 0 2 2 2 2\n",
      " 2 2 0 0 2 2 2 2 0 2 0 2 0 2 2 0 0 2 2 2 2 2 0 2 2 2 2 0 2 2 2 0 2 2 2 0 2\n",
      " 2 0]\n"
     ]
    }
   ],
   "source": [
    "K = 3\n",
    "\n",
    "#Crear objeto para hacer el kmeans y definir el número de clusters\n",
    "km = KMeans(n_clusters=K)\n",
    "\n",
    "#Do kmeans\n",
    "clusters = km.fit_predict(dataset[['sepalLength', 'sepalWidth', 'petalLength', 'petalWidth']])\n",
    "\n",
    "print(clusters)"
   ]
  },
  {
   "cell_type": "code",
   "execution_count": 20,
   "metadata": {},
   "outputs": [
    {
     "data": {
      "text/html": [
       "<div>\n",
       "<style scoped>\n",
       "    .dataframe tbody tr th:only-of-type {\n",
       "        vertical-align: middle;\n",
       "    }\n",
       "\n",
       "    .dataframe tbody tr th {\n",
       "        vertical-align: top;\n",
       "    }\n",
       "\n",
       "    .dataframe thead th {\n",
       "        text-align: right;\n",
       "    }\n",
       "</style>\n",
       "<table border=\"1\" class=\"dataframe\">\n",
       "  <thead>\n",
       "    <tr style=\"text-align: right;\">\n",
       "      <th></th>\n",
       "      <th>sepalLength</th>\n",
       "      <th>sepalWidth</th>\n",
       "      <th>petalLength</th>\n",
       "      <th>petalWidth</th>\n",
       "      <th>type</th>\n",
       "      <th>cluster1</th>\n",
       "    </tr>\n",
       "  </thead>\n",
       "  <tbody>\n",
       "    <tr>\n",
       "      <th>0</th>\n",
       "      <td>5.1</td>\n",
       "      <td>3.5</td>\n",
       "      <td>1.4</td>\n",
       "      <td>0.2</td>\n",
       "      <td>1</td>\n",
       "      <td>1</td>\n",
       "    </tr>\n",
       "    <tr>\n",
       "      <th>1</th>\n",
       "      <td>4.9</td>\n",
       "      <td>3.0</td>\n",
       "      <td>1.4</td>\n",
       "      <td>0.2</td>\n",
       "      <td>1</td>\n",
       "      <td>1</td>\n",
       "    </tr>\n",
       "    <tr>\n",
       "      <th>2</th>\n",
       "      <td>4.7</td>\n",
       "      <td>3.2</td>\n",
       "      <td>1.3</td>\n",
       "      <td>0.2</td>\n",
       "      <td>1</td>\n",
       "      <td>1</td>\n",
       "    </tr>\n",
       "    <tr>\n",
       "      <th>3</th>\n",
       "      <td>4.6</td>\n",
       "      <td>3.1</td>\n",
       "      <td>1.5</td>\n",
       "      <td>0.2</td>\n",
       "      <td>1</td>\n",
       "      <td>1</td>\n",
       "    </tr>\n",
       "    <tr>\n",
       "      <th>4</th>\n",
       "      <td>5.0</td>\n",
       "      <td>3.6</td>\n",
       "      <td>1.4</td>\n",
       "      <td>0.2</td>\n",
       "      <td>1</td>\n",
       "      <td>1</td>\n",
       "    </tr>\n",
       "    <tr>\n",
       "      <th>...</th>\n",
       "      <td>...</td>\n",
       "      <td>...</td>\n",
       "      <td>...</td>\n",
       "      <td>...</td>\n",
       "      <td>...</td>\n",
       "      <td>...</td>\n",
       "    </tr>\n",
       "    <tr>\n",
       "      <th>145</th>\n",
       "      <td>6.7</td>\n",
       "      <td>3.0</td>\n",
       "      <td>5.2</td>\n",
       "      <td>2.3</td>\n",
       "      <td>3</td>\n",
       "      <td>2</td>\n",
       "    </tr>\n",
       "    <tr>\n",
       "      <th>146</th>\n",
       "      <td>6.3</td>\n",
       "      <td>2.5</td>\n",
       "      <td>5.0</td>\n",
       "      <td>1.9</td>\n",
       "      <td>3</td>\n",
       "      <td>0</td>\n",
       "    </tr>\n",
       "    <tr>\n",
       "      <th>147</th>\n",
       "      <td>6.5</td>\n",
       "      <td>3.0</td>\n",
       "      <td>5.2</td>\n",
       "      <td>2.0</td>\n",
       "      <td>3</td>\n",
       "      <td>2</td>\n",
       "    </tr>\n",
       "    <tr>\n",
       "      <th>148</th>\n",
       "      <td>6.2</td>\n",
       "      <td>3.4</td>\n",
       "      <td>5.4</td>\n",
       "      <td>2.3</td>\n",
       "      <td>3</td>\n",
       "      <td>2</td>\n",
       "    </tr>\n",
       "    <tr>\n",
       "      <th>149</th>\n",
       "      <td>5.9</td>\n",
       "      <td>3.0</td>\n",
       "      <td>5.1</td>\n",
       "      <td>1.8</td>\n",
       "      <td>3</td>\n",
       "      <td>0</td>\n",
       "    </tr>\n",
       "  </tbody>\n",
       "</table>\n",
       "<p>150 rows × 6 columns</p>\n",
       "</div>"
      ],
      "text/plain": [
       "     sepalLength  sepalWidth  petalLength  petalWidth  type  cluster1\n",
       "0            5.1         3.5          1.4         0.2     1         1\n",
       "1            4.9         3.0          1.4         0.2     1         1\n",
       "2            4.7         3.2          1.3         0.2     1         1\n",
       "3            4.6         3.1          1.5         0.2     1         1\n",
       "4            5.0         3.6          1.4         0.2     1         1\n",
       "..           ...         ...          ...         ...   ...       ...\n",
       "145          6.7         3.0          5.2         2.3     3         2\n",
       "146          6.3         2.5          5.0         1.9     3         0\n",
       "147          6.5         3.0          5.2         2.0     3         2\n",
       "148          6.2         3.4          5.4         2.3     3         2\n",
       "149          5.9         3.0          5.1         1.8     3         0\n",
       "\n",
       "[150 rows x 6 columns]"
      ]
     },
     "execution_count": 20,
     "metadata": {},
     "output_type": "execute_result"
    }
   ],
   "source": [
    "dataset['cluster1'] = clusters\n",
    "dataset\n"
   ]
  },
  {
   "cell_type": "code",
   "execution_count": 21,
   "metadata": {},
   "outputs": [
    {
     "data": {
      "text/plain": [
       "array([[5.9016129 , 2.7483871 , 4.39354839, 1.43387097],\n",
       "       [5.006     , 3.428     , 1.462     , 0.246     ],\n",
       "       [6.85      , 3.07368421, 5.74210526, 2.07105263]])"
      ]
     },
     "execution_count": 21,
     "metadata": {},
     "output_type": "execute_result"
    }
   ],
   "source": [
    "km.cluster_centers_"
   ]
  },
  {
   "cell_type": "code",
   "execution_count": 22,
   "metadata": {},
   "outputs": [],
   "source": [
    "#Clusters calculados\n",
    "df1 = dataset[dataset.cluster1 == 0]\n",
    "df2 = dataset[dataset.cluster1 == 1]\n",
    "df3 = dataset[dataset.cluster1 == 2]\n"
   ]
  },
  {
   "cell_type": "code",
   "execution_count": 23,
   "metadata": {},
   "outputs": [
    {
     "name": "stdout",
     "output_type": "stream",
     "text": [
      "    sepalLength  sepalWidth  petalLength  petalWidth  type  cluster1\n",
      "0      0.222222    0.625000     0.067797    0.041667     1         1\n",
      "1      0.166667    0.416667     0.067797    0.041667     1         1\n",
      "2      0.111111    0.500000     0.050847    0.041667     1         1\n",
      "3      0.083333    0.458333     0.084746    0.041667     1         1\n",
      "4      0.194444    0.666667     0.067797    0.041667     1         1\n",
      "5      0.305556    0.791667     0.118644    0.125000     1         1\n",
      "6      0.083333    0.583333     0.067797    0.083333     1         1\n",
      "7      0.194444    0.583333     0.084746    0.041667     1         1\n",
      "8      0.027778    0.375000     0.067797    0.041667     1         1\n",
      "9      0.166667    0.458333     0.084746    0.000000     1         1\n",
      "10     0.305556    0.708333     0.084746    0.041667     1         1\n",
      "11     0.138889    0.583333     0.101695    0.041667     1         1\n",
      "12     0.138889    0.416667     0.067797    0.000000     1         1\n",
      "13     0.000000    0.416667     0.016949    0.000000     1         1\n",
      "14     0.416667    0.833333     0.033898    0.041667     1         1\n",
      "15     0.388889    1.000000     0.084746    0.125000     1         1\n",
      "16     0.305556    0.791667     0.050847    0.125000     1         1\n",
      "17     0.222222    0.625000     0.067797    0.083333     1         1\n",
      "18     0.388889    0.750000     0.118644    0.083333     1         1\n",
      "19     0.222222    0.750000     0.084746    0.083333     1         1\n",
      "[0 0 0 0 0 0 0 0 0 0 0 0 0 0 0 0 0 0 0 0 0 0 0 0 0 0 0 0 0 0 0 0 0 0 0 0 0\n",
      " 0 0 0 0 0 0 0 0 0 0 0 0 0 1 2 1 2 2 2 2 2 2 2 2 2 2 2 2 2 2 2 2 2 2 2 2 2\n",
      " 2 2 2 1 2 2 2 2 2 2 2 2 2 2 2 2 2 2 2 2 2 2 2 2 2 2 1 2 1 1 1 1 2 1 1 1 1\n",
      " 1 1 2 1 1 1 1 1 2 1 2 1 2 1 1 2 2 1 1 1 1 1 2 2 1 1 1 2 1 1 1 2 1 1 1 2 1\n",
      " 1 2]\n",
      "    sepalLength  sepalWidth  petalLength  petalWidth  type  cluster1  cluster2\n",
      "0      0.222222    0.625000     0.067797    0.041667     1         1         0\n",
      "1      0.166667    0.416667     0.067797    0.041667     1         1         0\n",
      "2      0.111111    0.500000     0.050847    0.041667     1         1         0\n",
      "3      0.083333    0.458333     0.084746    0.041667     1         1         0\n",
      "4      0.194444    0.666667     0.067797    0.041667     1         1         0\n",
      "5      0.305556    0.791667     0.118644    0.125000     1         1         0\n",
      "6      0.083333    0.583333     0.067797    0.083333     1         1         0\n",
      "7      0.194444    0.583333     0.084746    0.041667     1         1         0\n",
      "8      0.027778    0.375000     0.067797    0.041667     1         1         0\n",
      "9      0.166667    0.458333     0.084746    0.000000     1         1         0\n",
      "10     0.305556    0.708333     0.084746    0.041667     1         1         0\n",
      "11     0.138889    0.583333     0.101695    0.041667     1         1         0\n",
      "12     0.138889    0.416667     0.067797    0.000000     1         1         0\n",
      "13     0.000000    0.416667     0.016949    0.000000     1         1         0\n",
      "14     0.416667    0.833333     0.033898    0.041667     1         1         0\n",
      "15     0.388889    1.000000     0.084746    0.125000     1         1         0\n",
      "16     0.305556    0.791667     0.050847    0.125000     1         1         0\n",
      "17     0.222222    0.625000     0.067797    0.083333     1         1         0\n",
      "18     0.388889    0.750000     0.118644    0.083333     1         1         0\n",
      "19     0.222222    0.750000     0.084746    0.083333     1         1         0\n",
      "       sepalLength  sepalWidth  petalLength  petalWidth        type  \\\n",
      "count   150.000000  150.000000   150.000000  150.000000  150.000000   \n",
      "mean      0.428704    0.440556     0.467458    0.458056    2.000000   \n",
      "std       0.230018    0.181611     0.299203    0.317599    0.819232   \n",
      "min       0.000000    0.000000     0.000000    0.000000    1.000000   \n",
      "25%       0.222222    0.333333     0.101695    0.083333    1.000000   \n",
      "50%       0.416667    0.416667     0.567797    0.500000    2.000000   \n",
      "75%       0.583333    0.541667     0.694915    0.708333    3.000000   \n",
      "max       1.000000    1.000000     1.000000    1.000000    3.000000   \n",
      "\n",
      "         cluster1    cluster2  \n",
      "count  150.000000  150.000000  \n",
      "mean     0.840000    1.073333  \n",
      "std      0.803349    0.859972  \n",
      "min      0.000000    0.000000  \n",
      "25%      0.000000    0.000000  \n",
      "50%      1.000000    1.000000  \n",
      "75%      1.750000    2.000000  \n",
      "max      2.000000    2.000000  \n"
     ]
    }
   ],
   "source": [
    "#Punto 4 parte 1\n",
    "from sklearn.preprocessing import MinMaxScaler\n",
    "\n",
    "scaler = MinMaxScaler()\n",
    "\n",
    "scaler.fit(dataset[['petalLength']])\n",
    "dataset['petalLength'] = scaler.transform(dataset[['petalLength']])\n",
    "\n",
    "scaler.fit(dataset[['petalWidth']])\n",
    "dataset['petalWidth'] = scaler.transform(dataset[['petalWidth']])\n",
    "\n",
    "scaler.fit(dataset[['sepalLength']])\n",
    "dataset['sepalLength'] = scaler.transform(dataset[['sepalLength']])\n",
    "\n",
    "scaler.fit(dataset[['sepalWidth']])\n",
    "dataset['sepalWidth'] = scaler.transform(dataset[['sepalWidth']])\n",
    "\n",
    "print(dataset.head(20))\n",
    "\n",
    "K = 3\n",
    "\n",
    "#Crear objeto para hacer el kmeans y definir el número de clusters\n",
    "km = KMeans(n_clusters=K)\n",
    "\n",
    "#Do kmeans\n",
    "clusters = km.fit_predict(dataset[['sepalLength', 'sepalWidth','petalLength','petalWidth']])\n",
    "print(clusters)\n",
    "\n",
    "dataset['cluster2'] = clusters\n",
    "print(dataset.head(20))\n",
    "print(dataset.describe())\n"
   ]
  },
  {
   "cell_type": "code",
   "execution_count": 24,
   "metadata": {},
   "outputs": [
    {
     "data": {
      "image/png": "[encoded data removed]",
      "text/plain": [
       "<Figure size 432x288 with 1 Axes>"
      ]
     },
     "metadata": {
      "needs_background": "light"
     },
     "output_type": "display_data"
    }
   ],
   "source": [
    "#Punto 4 parte 2\n",
    "sse = []\n",
    "k_rng = range(1,10)\n",
    "\n",
    "for k in k_rng:\n",
    "    km = KMeans(n_clusters=k)\n",
    "    km.fit_predict(dataset[['sepalLength', 'sepalWidth', 'petalLength', 'petalWidth']])\n",
    "    sse.append(km.inertia_)\n",
    "    \n",
    "plt.plot(k_rng, sse, color = '#93B5C6')\n",
    "plt.title('Elbow plot')\n",
    "plt.xlabel('K')\n",
    "plt.ylabel('SSE')\n",
    "plt.show()"
   ]
  },
  {
   "cell_type": "markdown",
   "metadata": {},
   "source": [
    "<h3>5. Draw conclusions:"
   ]
  },
  {
   "cell_type": "markdown",
   "metadata": {},
   "source": [
    "  - About the scalling: does it helps or not?\n",
    "    - Para el caso específico del dataset de iris, considero que no no es útil, debido a que no se observan cambios notables en el clustering antes y después del escalamiento.\n",
    "\n",
    "  - About the elbow plot: does the K agree with the real number of clusters?\n",
    "    - Si, el número real de clusters es 3, y al momento de hacer la gráfica de codo (elbow plot), podemos observar en el k = 3 un punto de inflexión, además, después de este, no vemos cambios importantes en la gráfica, por lo que podemos concluir que efectivamente, tener 3 clusters es más que suficiente.\n",
    "    \n",
    "  - Comparison between (i) sepal features alone, (ii) petal features alone, and (iii) both sepal with petal features: which one is better/worse? Why?\n",
    "      - Desde mi punto de vista el los mejores son (i) y (ii) ya que en estos podemos ver gráficamente los clusters de los pétalos y sépalos, mientras que en el (iii), no podemos verlos gráficamente, y puede hacer más difícil la interpretación de resultados"
   ]
  }
 ],
 "metadata": {
  "kernelspec": {
   "display_name": "Python 3",
   "language": "python",
   "name": "python3"
  },
  "language_info": {
   "codemirror_mode": {
    "name": "ipython",
    "version": 3
   },
   "file_extension": ".py",
   "mimetype": "text/x-python",
   "name": "python",
   "nbconvert_exporter": "python",
   "pygments_lexer": "ipython3",
   "version": "3.8.8"
  }
 },
 "nbformat": 4,
 "nbformat_minor": 2
}
