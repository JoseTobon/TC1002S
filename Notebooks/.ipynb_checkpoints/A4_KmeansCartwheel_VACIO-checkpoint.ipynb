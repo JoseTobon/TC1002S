{
 "cells": [
  {
   "cell_type": "markdown",
   "metadata": {},
   "source": [
    "# K-means clustering\n",
    "\n",
    "The notebook aims to study and implement a k-means clustering. The iris dataset will be used to identify clusters automatically.\n",
    "\n",
    "\n",
    "## Acknowledgments\n",
    "\n",
    "- Data from https://www.coursera.org/ from the course \"Understanding and Visualizing Data with Python\" by University of Michigan\n"
   ]
  },
  {
   "cell_type": "markdown",
   "metadata": {},
   "source": [
    "# Importing libraries"
   ]
  },
  {
   "cell_type": "code",
<<<<<<< HEAD
   "execution_count": 211,
=======
   "execution_count": 3,
>>>>>>> 6b2f56879019e312d9664844cf535b4eeaa3ad69
   "metadata": {},
   "outputs": [],
   "source": [
    "# Import the packages that we will be using\n",
    "import pandas as pd                 # For data handling\n",
    "import seaborn as sns               # For advanced plotting\n",
<<<<<<< HEAD
    "import matplotlib.pyplot as plt     # For showing plots\n"
=======
    "import matplotlib.pyplot as plt     # For showing plots\n",
    "\n",
    "# Note: specific functions of the \"sklearn\" package will be imported when needed to show concepts easily\n"
>>>>>>> 6b2f56879019e312d9664844cf535b4eeaa3ad69
   ]
  },
  {
   "cell_type": "markdown",
   "metadata": {},
   "source": [
    "# Importing data"
   ]
  },
  {
   "cell_type": "code",
<<<<<<< HEAD
   "execution_count": 212,
   "metadata": {},
   "outputs": [],
   "source": [
    "# url string that hosts our .csv file\n",
    "url = \"datasets/cartwheel/cartwheel.csv\"\n",
    "\n",
    "# Read the .csv file and store it as a pandas Data Frame\n",
    "dataset = pd.read_csv(url)\n"
   ]
=======
   "execution_count": null,
   "metadata": {},
   "outputs": [],
   "source": []
>>>>>>> 6b2f56879019e312d9664844cf535b4eeaa3ad69
  },
  {
   "cell_type": "markdown",
   "metadata": {},
   "source": [
    "# Undertanding and preprocessing the data\n",
    "\n",
    "1. Get a general 'feel' of the data\n"
   ]
  },
  {
   "cell_type": "code",
   "execution_count": 213,
   "metadata": {},
   "outputs": [
    {
     "data": {
      "text/plain": [
       "(28, 12)"
      ]
     },
     "execution_count": 213,
     "metadata": {},
     "output_type": "execute_result"
    }
   ],
   "source": [
    "dataset.shape"
   ]
  },
  {
   "cell_type": "markdown",
   "metadata": {},
   "source": [
    "2. Drop rows with any missing values"
   ]
  },
  {
   "cell_type": "code",
   "execution_count": 214,
   "metadata": {},
   "outputs": [
    {
     "data": {
      "text/html": [
       "<div>\n",
       "<style scoped>\n",
       "    .dataframe tbody tr th:only-of-type {\n",
       "        vertical-align: middle;\n",
       "    }\n",
       "\n",
       "    .dataframe tbody tr th {\n",
       "        vertical-align: top;\n",
       "    }\n",
       "\n",
       "    .dataframe thead th {\n",
       "        text-align: right;\n",
       "    }\n",
       "</style>\n",
       "<table border=\"1\" class=\"dataframe\">\n",
       "  <thead>\n",
       "    <tr style=\"text-align: right;\">\n",
       "      <th></th>\n",
       "      <th>ID</th>\n",
       "      <th>Age</th>\n",
       "      <th>Gender</th>\n",
       "      <th>GenderGroup</th>\n",
       "      <th>Glasses</th>\n",
       "      <th>GlassesGroup</th>\n",
       "      <th>Height</th>\n",
       "      <th>Wingspan</th>\n",
       "      <th>CWDistance</th>\n",
       "      <th>Complete</th>\n",
       "      <th>CompleteGroup</th>\n",
       "      <th>Score</th>\n",
       "    </tr>\n",
       "  </thead>\n",
       "  <tbody>\n",
       "    <tr>\n",
       "      <th>0</th>\n",
       "      <td>1</td>\n",
       "      <td>56.0</td>\n",
       "      <td>F</td>\n",
       "      <td>1</td>\n",
       "      <td>Y</td>\n",
       "      <td>1</td>\n",
       "      <td>62.0</td>\n",
       "      <td>61.0</td>\n",
       "      <td>79</td>\n",
       "      <td>Y</td>\n",
       "      <td>1.0</td>\n",
       "      <td>7</td>\n",
       "    </tr>\n",
       "    <tr>\n",
       "      <th>1</th>\n",
       "      <td>2</td>\n",
       "      <td>26.0</td>\n",
       "      <td>F</td>\n",
       "      <td>1</td>\n",
       "      <td>Y</td>\n",
       "      <td>1</td>\n",
       "      <td>62.0</td>\n",
       "      <td>60.0</td>\n",
       "      <td>70</td>\n",
       "      <td>Y</td>\n",
       "      <td>1.0</td>\n",
       "      <td>8</td>\n",
       "    </tr>\n",
       "    <tr>\n",
       "      <th>2</th>\n",
       "      <td>3</td>\n",
       "      <td>33.0</td>\n",
       "      <td>F</td>\n",
       "      <td>1</td>\n",
       "      <td>Y</td>\n",
       "      <td>1</td>\n",
       "      <td>66.0</td>\n",
       "      <td>64.0</td>\n",
       "      <td>85</td>\n",
       "      <td>Y</td>\n",
       "      <td>1.0</td>\n",
       "      <td>7</td>\n",
       "    </tr>\n",
       "    <tr>\n",
       "      <th>3</th>\n",
       "      <td>4</td>\n",
       "      <td>39.0</td>\n",
       "      <td>F</td>\n",
       "      <td>1</td>\n",
       "      <td>N</td>\n",
       "      <td>0</td>\n",
       "      <td>64.0</td>\n",
       "      <td>63.0</td>\n",
       "      <td>87</td>\n",
       "      <td>Y</td>\n",
       "      <td>1.0</td>\n",
       "      <td>10</td>\n",
       "    </tr>\n",
       "  </tbody>\n",
       "</table>\n",
       "</div>"
      ],
      "text/plain": [
       "   ID   Age Gender  GenderGroup Glasses  GlassesGroup  Height  Wingspan  \\\n",
       "0   1  56.0      F            1       Y             1    62.0      61.0   \n",
       "1   2  26.0      F            1       Y             1    62.0      60.0   \n",
       "2   3  33.0      F            1       Y             1    66.0      64.0   \n",
       "3   4  39.0      F            1       N             0    64.0      63.0   \n",
       "\n",
       "   CWDistance Complete  CompleteGroup  Score  \n",
       "0          79        Y            1.0      7  \n",
       "1          70        Y            1.0      8  \n",
       "2          85        Y            1.0      7  \n",
       "3          87        Y            1.0     10  "
      ]
     },
     "execution_count": 214,
     "metadata": {},
     "output_type": "execute_result"
    }
   ],
   "source": [
    "dataset = dataset.dropna()\n",
    "\n",
    "dataset.head(4)"
   ]
  },
  {
   "cell_type": "markdown",
   "metadata": {},
   "source": [
    "3. Encoding the class label categorical column: from string to num\n"
   ]
  },
  {
   "cell_type": "code",
<<<<<<< HEAD
   "execution_count": 215,
=======
   "execution_count": 4,
>>>>>>> 6b2f56879019e312d9664844cf535b4eeaa3ad69
   "metadata": {},
   "outputs": [],
   "source": [
    "# Encoding the categorical column\n",
    "\n",
    "# Note: this is not neesary for the cartwheel dataset, but it going to be very usefull for the Iris dataset"
   ]
  },
  {
   "cell_type": "markdown",
   "metadata": {},
   "source": [
    "4. Discard columns that won't be used\n"
   ]
  },
  {
   "cell_type": "code",
   "execution_count": 216,
   "metadata": {},
   "outputs": [],
   "source": [
    "dataset.drop(['ID','Age','Gender','Glasses','GlassesGroup','Complete','CompleteGroup','Score'],axis='columns',inplace=True)\n",
    "\n"
   ]
  },
  {
   "cell_type": "code",
   "execution_count": 217,
   "metadata": {},
   "outputs": [
    {
     "data": {
      "text/html": [
       "<div>\n",
       "<style scoped>\n",
       "    .dataframe tbody tr th:only-of-type {\n",
       "        vertical-align: middle;\n",
       "    }\n",
       "\n",
       "    .dataframe tbody tr th {\n",
       "        vertical-align: top;\n",
       "    }\n",
       "\n",
       "    .dataframe thead th {\n",
       "        text-align: right;\n",
       "    }\n",
       "</style>\n",
       "<table border=\"1\" class=\"dataframe\">\n",
       "  <thead>\n",
       "    <tr style=\"text-align: right;\">\n",
       "      <th></th>\n",
       "      <th>GenderGroup</th>\n",
       "      <th>Height</th>\n",
       "      <th>Wingspan</th>\n",
       "      <th>CWDistance</th>\n",
       "    </tr>\n",
       "  </thead>\n",
       "  <tbody>\n",
       "    <tr>\n",
       "      <th>0</th>\n",
       "      <td>1</td>\n",
       "      <td>62.0</td>\n",
       "      <td>61.0</td>\n",
       "      <td>79</td>\n",
       "    </tr>\n",
       "    <tr>\n",
       "      <th>1</th>\n",
       "      <td>1</td>\n",
       "      <td>62.0</td>\n",
       "      <td>60.0</td>\n",
       "      <td>70</td>\n",
       "    </tr>\n",
       "    <tr>\n",
       "      <th>2</th>\n",
       "      <td>1</td>\n",
       "      <td>66.0</td>\n",
       "      <td>64.0</td>\n",
       "      <td>85</td>\n",
       "    </tr>\n",
       "    <tr>\n",
       "      <th>3</th>\n",
       "      <td>1</td>\n",
       "      <td>64.0</td>\n",
       "      <td>63.0</td>\n",
       "      <td>87</td>\n",
       "    </tr>\n",
       "    <tr>\n",
       "      <th>4</th>\n",
       "      <td>2</td>\n",
       "      <td>73.0</td>\n",
       "      <td>75.0</td>\n",
       "      <td>72</td>\n",
       "    </tr>\n",
       "    <tr>\n",
       "      <th>5</th>\n",
       "      <td>2</td>\n",
       "      <td>75.0</td>\n",
       "      <td>71.0</td>\n",
       "      <td>81</td>\n",
       "    </tr>\n",
       "  </tbody>\n",
       "</table>\n",
       "</div>"
      ],
      "text/plain": [
       "   GenderGroup  Height  Wingspan  CWDistance\n",
       "0            1    62.0      61.0          79\n",
       "1            1    62.0      60.0          70\n",
       "2            1    66.0      64.0          85\n",
       "3            1    64.0      63.0          87\n",
       "4            2    73.0      75.0          72\n",
       "5            2    75.0      71.0          81"
      ]
     },
     "execution_count": 217,
     "metadata": {},
     "output_type": "execute_result"
    }
   ],
   "source": [
    "dataset.head(6)"
   ]
  },
  {
   "cell_type": "markdown",
   "metadata": {},
   "source": [
    "5. Scatter plot of the data"
   ]
  },
  {
   "cell_type": "code",
   "execution_count": 218,
   "metadata": {},
   "outputs": [
    {
     "data": {
      "image/png": "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\n",
      "text/plain": [
       "<Figure size 432x288 with 1 Axes>"
      ]
     },
     "metadata": {
      "needs_background": "light"
     },
     "output_type": "display_data"
    }
   ],
   "source": [
    "plt.scatter(dataset.Wingspan, dataset.CWDistance, s=100)\n",
    "plt.title('Scatter plot of my dataset', fontsize=18)\n",
    "plt.xlabel('Wingspan', fontsize=18)\n",
    "plt.ylabel('CWDistance', fontsize=18)\n",
    "\n",
    "plt.show()"
   ]
  },
  {
   "cell_type": "markdown",
   "metadata": {},
   "source": [
    "6. Scatter plot of the data asigning each point to the cluster it belongs to ¡¡"
   ]
  },
  {
   "cell_type": "code",
   "execution_count": 219,
   "metadata": {},
   "outputs": [
    {
     "data": {
      "image/png": "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\n",
      "text/plain": [
       "<Figure size 432x288 with 1 Axes>"
      ]
     },
     "metadata": {
      "needs_background": "light"
     },
     "output_type": "display_data"
    }
   ],
   "source": [
    "df1 = dataset[dataset.GenderGroup==1]\n",
    "df2 = dataset[dataset.GenderGroup==2]\n",
    "\n",
    "plt.scatter(df1.Wingspan, df1.CWDistance, s=100)\n",
    "plt.scatter(df2.Wingspan, df2.CWDistance, s=100)\n",
    "\n",
    "plt.title('Scatter plot of my dataset', fontsize=18)\n",
    "plt.xlabel('Wingspan', fontsize=18)\n",
    "plt.ylabel('CWDistance', fontsize=18)\n",
    "\n",
    "plt.show()"
   ]
  },
  {
   "cell_type": "markdown",
   "metadata": {},
   "source": [
    "So, for this dataset we know in advance the class to which each point belongs to"
   ]
  },
  {
   "cell_type": "markdown",
   "metadata": {},
   "source": [
    "# Kmeans clustering\n",
    "\n",
    "Kmeans clustering"
   ]
  },
  {
   "cell_type": "code",
   "execution_count": 220,
   "metadata": {},
   "outputs": [
    {
     "data": {
      "text/plain": [
       "array([1, 1, 2, 2, 3, 3, 0, 2, 0, 1, 2, 1, 2, 1, 3, 0, 2, 1, 3, 2, 3, 0,\n",
       "       2, 3, 1])"
      ]
     },
     "execution_count": 220,
     "metadata": {},
     "output_type": "execute_result"
    }
   ],
   "source": [
    "from sklearn.cluster import KMeans\n",
    "\n",
    "\n",
    "K  = 4\n",
    "\n",
    "# Crear objeto para hacer kmeans y definir el numero de clusters\n",
    "km = KMeans(n_clusters=K)\n",
    "\n",
    "# Do kmeans\n",
    "clusters = km.fit_predict(dataset[['Wingspan','CWDistance','Height']])\n",
    "\n",
    "clusters"
   ]
  },
  {
   "cell_type": "code",
   "execution_count": 221,
   "metadata": {},
   "outputs": [
    {
     "data": {
      "text/html": [
       "<div>\n",
       "<style scoped>\n",
       "    .dataframe tbody tr th:only-of-type {\n",
       "        vertical-align: middle;\n",
       "    }\n",
       "\n",
       "    .dataframe tbody tr th {\n",
       "        vertical-align: top;\n",
       "    }\n",
       "\n",
       "    .dataframe thead th {\n",
       "        text-align: right;\n",
       "    }\n",
       "</style>\n",
       "<table border=\"1\" class=\"dataframe\">\n",
       "  <thead>\n",
       "    <tr style=\"text-align: right;\">\n",
       "      <th></th>\n",
       "      <th>GenderGroup</th>\n",
       "      <th>Height</th>\n",
       "      <th>Wingspan</th>\n",
       "      <th>CWDistance</th>\n",
       "      <th>cluster1</th>\n",
       "    </tr>\n",
       "  </thead>\n",
       "  <tbody>\n",
       "    <tr>\n",
       "      <th>0</th>\n",
       "      <td>1</td>\n",
       "      <td>62.00</td>\n",
       "      <td>61.0</td>\n",
       "      <td>79</td>\n",
       "      <td>1</td>\n",
       "    </tr>\n",
       "    <tr>\n",
       "      <th>1</th>\n",
       "      <td>1</td>\n",
       "      <td>62.00</td>\n",
       "      <td>60.0</td>\n",
       "      <td>70</td>\n",
       "      <td>1</td>\n",
       "    </tr>\n",
       "    <tr>\n",
       "      <th>2</th>\n",
       "      <td>1</td>\n",
       "      <td>66.00</td>\n",
       "      <td>64.0</td>\n",
       "      <td>85</td>\n",
       "      <td>2</td>\n",
       "    </tr>\n",
       "    <tr>\n",
       "      <th>3</th>\n",
       "      <td>1</td>\n",
       "      <td>64.00</td>\n",
       "      <td>63.0</td>\n",
       "      <td>87</td>\n",
       "      <td>2</td>\n",
       "    </tr>\n",
       "    <tr>\n",
       "      <th>4</th>\n",
       "      <td>2</td>\n",
       "      <td>73.00</td>\n",
       "      <td>75.0</td>\n",
       "      <td>72</td>\n",
       "      <td>3</td>\n",
       "    </tr>\n",
       "    <tr>\n",
       "      <th>5</th>\n",
       "      <td>2</td>\n",
       "      <td>75.00</td>\n",
       "      <td>71.0</td>\n",
       "      <td>81</td>\n",
       "      <td>3</td>\n",
       "    </tr>\n",
       "    <tr>\n",
       "      <th>6</th>\n",
       "      <td>2</td>\n",
       "      <td>75.00</td>\n",
       "      <td>76.0</td>\n",
       "      <td>107</td>\n",
       "      <td>0</td>\n",
       "    </tr>\n",
       "    <tr>\n",
       "      <th>7</th>\n",
       "      <td>1</td>\n",
       "      <td>65.00</td>\n",
       "      <td>62.0</td>\n",
       "      <td>98</td>\n",
       "      <td>2</td>\n",
       "    </tr>\n",
       "    <tr>\n",
       "      <th>8</th>\n",
       "      <td>2</td>\n",
       "      <td>74.00</td>\n",
       "      <td>73.0</td>\n",
       "      <td>106</td>\n",
       "      <td>0</td>\n",
       "    </tr>\n",
       "    <tr>\n",
       "      <th>9</th>\n",
       "      <td>1</td>\n",
       "      <td>63.00</td>\n",
       "      <td>60.0</td>\n",
       "      <td>65</td>\n",
       "      <td>1</td>\n",
       "    </tr>\n",
       "    <tr>\n",
       "      <th>10</th>\n",
       "      <td>2</td>\n",
       "      <td>69.50</td>\n",
       "      <td>66.0</td>\n",
       "      <td>96</td>\n",
       "      <td>2</td>\n",
       "    </tr>\n",
       "    <tr>\n",
       "      <th>11</th>\n",
       "      <td>1</td>\n",
       "      <td>62.75</td>\n",
       "      <td>58.0</td>\n",
       "      <td>79</td>\n",
       "      <td>1</td>\n",
       "    </tr>\n",
       "    <tr>\n",
       "      <th>12</th>\n",
       "      <td>1</td>\n",
       "      <td>65.00</td>\n",
       "      <td>64.5</td>\n",
       "      <td>92</td>\n",
       "      <td>2</td>\n",
       "    </tr>\n",
       "    <tr>\n",
       "      <th>13</th>\n",
       "      <td>1</td>\n",
       "      <td>61.50</td>\n",
       "      <td>57.5</td>\n",
       "      <td>66</td>\n",
       "      <td>1</td>\n",
       "    </tr>\n",
       "    <tr>\n",
       "      <th>14</th>\n",
       "      <td>2</td>\n",
       "      <td>73.00</td>\n",
       "      <td>74.0</td>\n",
       "      <td>72</td>\n",
       "      <td>3</td>\n",
       "    </tr>\n",
       "    <tr>\n",
       "      <th>15</th>\n",
       "      <td>2</td>\n",
       "      <td>71.00</td>\n",
       "      <td>72.0</td>\n",
       "      <td>115</td>\n",
       "      <td>0</td>\n",
       "    </tr>\n",
       "    <tr>\n",
       "      <th>16</th>\n",
       "      <td>1</td>\n",
       "      <td>61.50</td>\n",
       "      <td>59.5</td>\n",
       "      <td>90</td>\n",
       "      <td>2</td>\n",
       "    </tr>\n",
       "    <tr>\n",
       "      <th>17</th>\n",
       "      <td>2</td>\n",
       "      <td>66.00</td>\n",
       "      <td>66.0</td>\n",
       "      <td>74</td>\n",
       "      <td>1</td>\n",
       "    </tr>\n",
       "    <tr>\n",
       "      <th>18</th>\n",
       "      <td>2</td>\n",
       "      <td>70.00</td>\n",
       "      <td>69.0</td>\n",
       "      <td>64</td>\n",
       "      <td>3</td>\n",
       "    </tr>\n",
       "    <tr>\n",
       "      <th>19</th>\n",
       "      <td>1</td>\n",
       "      <td>68.00</td>\n",
       "      <td>66.0</td>\n",
       "      <td>85</td>\n",
       "      <td>2</td>\n",
       "    </tr>\n",
       "    <tr>\n",
       "      <th>20</th>\n",
       "      <td>2</td>\n",
       "      <td>69.00</td>\n",
       "      <td>67.0</td>\n",
       "      <td>66</td>\n",
       "      <td>3</td>\n",
       "    </tr>\n",
       "    <tr>\n",
       "      <th>21</th>\n",
       "      <td>2</td>\n",
       "      <td>71.00</td>\n",
       "      <td>70.0</td>\n",
       "      <td>101</td>\n",
       "      <td>0</td>\n",
       "    </tr>\n",
       "    <tr>\n",
       "      <th>22</th>\n",
       "      <td>2</td>\n",
       "      <td>70.00</td>\n",
       "      <td>68.0</td>\n",
       "      <td>82</td>\n",
       "      <td>2</td>\n",
       "    </tr>\n",
       "    <tr>\n",
       "      <th>23</th>\n",
       "      <td>2</td>\n",
       "      <td>69.00</td>\n",
       "      <td>71.0</td>\n",
       "      <td>63</td>\n",
       "      <td>3</td>\n",
       "    </tr>\n",
       "    <tr>\n",
       "      <th>24</th>\n",
       "      <td>1</td>\n",
       "      <td>65.00</td>\n",
       "      <td>63.0</td>\n",
       "      <td>67</td>\n",
       "      <td>1</td>\n",
       "    </tr>\n",
       "  </tbody>\n",
       "</table>\n",
       "</div>"
      ],
      "text/plain": [
       "    GenderGroup  Height  Wingspan  CWDistance  cluster1\n",
       "0             1   62.00      61.0          79         1\n",
       "1             1   62.00      60.0          70         1\n",
       "2             1   66.00      64.0          85         2\n",
       "3             1   64.00      63.0          87         2\n",
       "4             2   73.00      75.0          72         3\n",
       "5             2   75.00      71.0          81         3\n",
       "6             2   75.00      76.0         107         0\n",
       "7             1   65.00      62.0          98         2\n",
       "8             2   74.00      73.0         106         0\n",
       "9             1   63.00      60.0          65         1\n",
       "10            2   69.50      66.0          96         2\n",
       "11            1   62.75      58.0          79         1\n",
       "12            1   65.00      64.5          92         2\n",
       "13            1   61.50      57.5          66         1\n",
       "14            2   73.00      74.0          72         3\n",
       "15            2   71.00      72.0         115         0\n",
       "16            1   61.50      59.5          90         2\n",
       "17            2   66.00      66.0          74         1\n",
       "18            2   70.00      69.0          64         3\n",
       "19            1   68.00      66.0          85         2\n",
       "20            2   69.00      67.0          66         3\n",
       "21            2   71.00      70.0         101         0\n",
       "22            2   70.00      68.0          82         2\n",
       "23            2   69.00      71.0          63         3\n",
       "24            1   65.00      63.0          67         1"
      ]
     },
     "execution_count": 221,
     "metadata": {},
     "output_type": "execute_result"
    }
   ],
   "source": [
    "dataset['cluster1'] = clusters\n",
    "\n",
    "dataset"
   ]
  },
  {
   "cell_type": "code",
   "execution_count": null,
   "metadata": {},
   "outputs": [],
   "source": []
  },
  {
   "cell_type": "code",
   "execution_count": 222,
   "metadata": {},
   "outputs": [
    {
     "data": {
      "text/plain": [
       "array([[ 72.75      , 107.25      ,  72.75      ],\n",
       "       [ 60.78571429,  71.42857143,  63.17857143],\n",
       "       [ 64.125     ,  89.375     ,  66.125     ],\n",
       "       [ 71.16666667,  69.66666667,  71.5       ]])"
      ]
     },
     "execution_count": 222,
     "metadata": {},
     "output_type": "execute_result"
    }
   ],
   "source": [
    "km.cluster_centers_"
   ]
  },
  {
   "cell_type": "code",
   "execution_count": null,
   "metadata": {},
   "outputs": [],
   "source": []
  },
  {
   "cell_type": "markdown",
   "metadata": {},
   "source": [
    "<span style='color:Blue'> **Important remarks**  </span>\n",
    "\n",
    "- The number of each cluster is randomly assigned\n",
    "- The order of the number in each cluster is random"
   ]
  },
  {
   "cell_type": "markdown",
   "metadata": {},
   "source": [
    "# Plot estimated clusters\n",
    "\n",
    "Plot estimated clusters"
   ]
  },
  {
   "cell_type": "code",
   "execution_count": 223,
   "metadata": {},
   "outputs": [
    {
     "data": {
      "image/png": "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\n",
      "text/plain": [
       "<Figure size 432x288 with 1 Axes>"
      ]
     },
     "metadata": {
      "needs_background": "light"
     },
     "output_type": "display_data"
    }
   ],
   "source": [
    "df1 = dataset[dataset.GenderGroup==1]\n",
    "df2 = dataset[dataset.GenderGroup==2]\n",
    "\n",
    "plt.scatter(df1.Wingspan, df1.CWDistance, s=100)\n",
    "plt.scatter(df2.Wingspan, df2.CWDistance, s=100)\n",
    "\n",
    "plt.title('Scatter plot of my dataset', fontsize=18)\n",
    "plt.xlabel('Wingspan', fontsize=18)\n",
    "plt.ylabel('CWDistance', fontsize=18)\n",
    "\n",
    "plt.show()"
   ]
  },
  {
   "cell_type": "code",
   "execution_count": 224,
   "metadata": {},
   "outputs": [
    {
     "data": {
      "image/png": "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\n",
      "text/plain": [
       "<Figure size 432x288 with 1 Axes>"
      ]
     },
     "metadata": {
      "needs_background": "light"
     },
     "output_type": "display_data"
    }
   ],
   "source": [
    "df1 = dataset[dataset.cluster1==0]\n",
    "df2 = dataset[dataset.cluster1==1]\n",
    "df3 = dataset[dataset.cluster1==2]\n",
    "df4 = dataset[dataset.cluster1==3]\n",
    "\n",
    "plt.scatter(df1.Wingspan, df1.CWDistance, s=100)\n",
    "plt.scatter(df2.Wingspan, df2.CWDistance, s=100)\n",
    "plt.scatter(df3.Wingspan, df3.CWDistance, s=100)\n",
    "plt.scatter(df4.Wingspan, df4.CWDistance, s=100)\n",
    "\n",
    "plt.title('Scatter plot of my dataset', fontsize=18)\n",
    "plt.xlabel('Wingspan', fontsize=18)\n",
    "plt.ylabel('CWDistance', fontsize=18)\n",
    "\n",
    "plt.show()"
   ]
  },
  {
   "cell_type": "markdown",
   "metadata": {},
   "source": [
    "# Selecting K: elbow plot\n",
    "\n",
    "Check the acurracy of the model using k-fold cross-validation"
   ]
  },
  {
   "cell_type": "code",
   "execution_count": 232,
   "metadata": {},
   "outputs": [],
   "source": [
    "sse = []\n",
    "\n",
    "k_rng = range(1,10)\n",
    "\n",
    "for k in k_rng:\n",
    "    km = KMeans(n_clusters=k)\n",
    "    km.fit_predict(dataset[['Wingspan','CWDistance','Height']])\n",
    "    sse.append(km.inertia_)\n",
    "\n"
   ]
  },
  {
   "cell_type": "code",
   "execution_count": 233,
   "metadata": {},
   "outputs": [
    {
     "name": "stdout",
     "output_type": "stream",
     "text": [
      "range(1, 10)\n",
      "[6637.549999999999, 2737.6343344155835, 1501.765909090909, 1052.2738095238094, 763.8928571428572, 585.2500000000001, 462.2833333333333, 341.52083333333337, 285.50000000000006]\n"
     ]
    }
   ],
   "source": [
    "print(k_rng)\n",
    "print(sse)"
   ]
  },
  {
   "cell_type": "code",
   "execution_count": 228,
   "metadata": {},
   "outputs": [
    {
     "data": {
      "image/png": "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\n",
      "text/plain": [
       "<Figure size 432x288 with 1 Axes>"
      ]
     },
     "metadata": {
      "needs_background": "light"
     },
     "output_type": "display_data"
    }
   ],
   "source": [
    "plt.plot(k_rng,sse)\n",
    "\n",
    "plt.title('Elbow plot')\n",
    "plt.xlabel('K')\n",
    "plt.ylabel('Sum of squared error')\n",
    "plt.show()\n"
   ]
  },
  {
   "cell_type": "markdown",
   "metadata": {},
   "source": [
    "<span style='color:Blue'> **Important remarks**  </span>\n",
    "\n",
    "According to the Elbot plot, the selected K agree with the real number of clusters\n",
    "\n"
   ]
  },
  {
   "cell_type": "markdown",
   "metadata": {},
   "source": [
    "# Normalizing the data: preprocessing using min max scaler\n",
    "\n",
    "Normalizing the data: preprocessing using min max scaler"
   ]
  },
  {
   "cell_type": "code",
   "execution_count": null,
   "metadata": {},
   "outputs": [],
   "source": []
  },
  {
   "cell_type": "code",
   "execution_count": null,
   "metadata": {},
   "outputs": [],
   "source": []
  },
  {
   "cell_type": "code",
   "execution_count": null,
   "metadata": {},
   "outputs": [],
   "source": []
  },
  {
   "cell_type": "code",
   "execution_count": null,
   "metadata": {},
   "outputs": [],
   "source": []
  },
  {
   "cell_type": "code",
   "execution_count": null,
   "metadata": {},
   "outputs": [],
   "source": []
  },
  {
   "cell_type": "code",
   "execution_count": null,
   "metadata": {},
   "outputs": [],
   "source": []
  },
  {
   "cell_type": "markdown",
   "metadata": {},
   "source": [
    "# Final remarks\n",
    "\n",
    "- K-Means clustering algorithm is perhaps the simplest and most popular unsupervised learning algorithm\n",
    "\n",
    "- The number of clusters have to be defined by the user (i.e., by you ¡¡)\n",
    "\n",
    "- The number assigned to each cluster is randomly assigned from set 0, 1, 2\n",
    "\n",
    "- The order of the number in each cluster is random\n",
    "\n",
    "- The **sklearn** package provides the tools for data processing suchs as k-means"
   ]
  },
  {
   "cell_type": "markdown",
   "metadata": {},
   "source": [
    "# Activity: work with the iris dataset\n",
    "\n",
    "1. Do clustering with the iris flower dataset to form clusters using as features petal width and length. Drop out the other two features (sepal width and length) for simplicity.\n",
    "\n",
    "\n",
    "2. Do clustering with the iris flower dataset to form clusters using as features sepal width and length. Drop out the other two features (petal width and length) for simplicity.\n",
    "\n",
    "\n",
    "3. Do clustering with the iris flower dataset to form clusters using as features sepal and petal width and length. Notice that scatter plots here are not possible\n",
    "\n",
    "\n",
    "4. For the previous cases: \n",
    "    - With and without using min max scaling: determine whether the scaling benefits or not\n",
    "    - Compute and show the elbow plot\n",
    "\n",
    "\n",
    "5. Draw conclusiones:\n",
    "    - About the scalling: does it helps or not?\n",
    "    - About the elbow plot: does the K agree with the real number of clusters?\n",
    "    - Comparison between (i) sepal features alone, (ii) petal features alone, and (ii) both sepal with petal features: which one is better/worse? Why?"
   ]
  }
 ],
 "metadata": {
  "kernelspec": {
   "display_name": "Python 3",
   "language": "python",
   "name": "python3"
  },
  "language_info": {
   "codemirror_mode": {
    "name": "ipython",
    "version": 3
   },
   "file_extension": ".py",
   "mimetype": "text/x-python",
   "name": "python",
   "nbconvert_exporter": "python",
   "pygments_lexer": "ipython3",
   "version": "3.8.8"
  }
 },
 "nbformat": 4,
 "nbformat_minor": 2
}
